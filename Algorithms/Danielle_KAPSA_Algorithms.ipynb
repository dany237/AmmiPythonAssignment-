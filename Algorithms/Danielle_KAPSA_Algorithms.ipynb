{
  "cells": [
    {
      "cell_type": "markdown",
      "metadata": {
        "id": "m9cClld31-Mg"
      },
      "source": [
        "# What is an Algorithm:\n"
      ]
    },
    {
      "cell_type": "markdown",
      "metadata": {
        "id": "pcpteWzj2Fbv"
      },
      "source": [
        "It is a step by step procedure for solving a computational problem.\n",
        "\n",
        "\n"
      ]
    },
    {
      "cell_type": "markdown",
      "metadata": {
        "id": "cpaD_bDG3AHZ"
      },
      "source": [
        "### - What is the difference between program and algorithm?\n",
        "\n",
        "Algorithm:                                          \n",
        "\n",
        "1. Design time.        \n",
        "2. Domain Knowledge.\n",
        "3. Any Language.                                 \n",
        "4. H/W and Software (OS) independent.\n",
        "5. Analyze an Algorithm.  \n",
        "\n",
        "\n",
        "\n",
        "Program:\n",
        "\n",
        "1. Implementation time.\n",
        "2. Programming Knowledge.\n",
        "3. Programming Language.\n",
        "4. H/W and Software (OS) dependent.\n",
        "5. Testing a program."
      ]
    },
    {
      "cell_type": "markdown",
      "metadata": {
        "id": "_azNKbmUdwUm"
      },
      "source": [
        "# Characteristics of the Algorithm:"
      ]
    },
    {
      "cell_type": "markdown",
      "metadata": {
        "id": "XHTGf_jZSTIm"
      },
      "source": [
        "\n",
        "1. Input:  ===>   (zero or more)\n",
        "\n",
        "2. Output: ===>   (at least one output)\n",
        "\n",
        "3. Definiteness: ===> (every statement should have an exact meaning, you cannot write any statement which cannot be understood/solved) every statement that we are writing should be **definite** .\n",
        "\n",
        "4. Finiteness ====> (it should have some limited number of steps and it will stop and return the result.). Algorithm must **terminate** at some point.\n",
        "\n",
        "5. Effectiveness. ====> (you should not write unecessary statements in an algorithm, whatever statement you write the objective of it is to do something in the steps of the algorithm.)\n",
        "\n"
      ]
    },
    {
      "cell_type": "markdown",
      "metadata": {
        "id": "NrRQdVLtd5KB"
      },
      "source": [
        "# How to write the Algorithm ?"
      ]
    },
    {
      "cell_type": "markdown",
      "metadata": {
        "id": "Frj-8JHrfodU"
      },
      "source": [
        "There are no hard and fast rules for how to write an algorithm, but there are some common practices that can help make your algorithms more clear and understandable.\n",
        "\n",
        "1. Use a clear and concise writing style:====>  (Your algorithm should be easy to read and understand, even by someone who is not familiar with the problem you are trying to solve. Use short, simple sentences and avoid unnecessary technical jargon.)\n",
        "\n",
        "2. Use pseudocode:====> (Pseudocode is a simplified programming language that uses plain English to describe the steps of an algorithm. It can be easier to understand than actual code, and it allows you to focus on the logic of the algorithm rather than the syntax of a particular programming language.)\n",
        "\n",
        "3. Be consistent:=====> (Use the same naming conventions and notation throughout your algorithm. This helps to make your algorithm more readable and easier to follow.)\n",
        "\n",
        "\n",
        "4. Break down the problem:====> (Breaking the problem down into smaller subproblems can make your algorithm more manageable and easier to understand.)"
      ]
    },
    {
      "cell_type": "markdown",
      "metadata": {
        "id": "ebrsDxZf0HPj"
      },
      "source": [
        "### Example:\n",
        "\n",
        "There are lots of ways to write an algorithm, below is one way."
      ]
    },
    {
      "cell_type": "markdown",
      "metadata": {
        "id": "6JKPCVjr80DS"
      },
      "source": [
        "\n",
        "\n",
        "```\n",
        "Algorithm: isPrime(number)\n",
        "{\n",
        "prime <-- TRUE\n",
        "\n",
        "FOR i <-- 2 TO number\n",
        "    IF number is divisible by i THEN\n",
        "    prime <-- FALSE\n",
        "\n",
        "IF prime = TRUE:\n",
        "    OUTPUT \"prime\"\n",
        "ELSE\n",
        "    OUTPUT \"not prime\"\n",
        "\n",
        "}\n",
        "```\n",
        "\n"
      ]
    },
    {
      "cell_type": "markdown",
      "metadata": {
        "id": "gU_rbfE18431"
      },
      "source": [
        "\n",
        "\n",
        "```\n",
        "Algorithm: Swap(a,b)\n",
        "{\n",
        "temp<--a\n",
        "a<--b\n",
        "b<--temp\n",
        "\n",
        "}\n",
        "```\n",
        "\n"
      ]
    },
    {
      "cell_type": "code",
      "execution_count": 1,
      "metadata": {
        "colab": {
          "base_uri": "https://localhost:8080/"
        },
        "id": "tWrbqTIHQTnj",
        "outputId": "dc17fa2e-894d-4734-bf26-c0f35d8a072b"
      },
      "outputs": [
        {
          "name": "stdout",
          "output_type": "stream",
          "text": [
            "not prime\n",
            "prime\n",
            "not prime\n",
            "prime\n"
          ]
        }
      ],
      "source": [
        "# Write your code here for Prime algorithm.\n",
        "def isPrime(number):\n",
        "    prime = True\n",
        "\n",
        "    if number < 2:\n",
        "        prime = False\n",
        "    else:\n",
        "        for i in range(2, number):\n",
        "            if number % i == 0:\n",
        "                prime = False\n",
        "                break\n",
        "\n",
        "    if prime == True:\n",
        "        return \"prime\"\n",
        "    else:\n",
        "        return \"not prime\"\n",
        "\n",
        "\n",
        "# Write test cases for the algorithm you wrote.\n",
        "print(isPrime(12))\n",
        "print(isPrime(13))\n",
        "print(isPrime(21))\n",
        "print(isPrime(29))"
      ]
    },
    {
      "cell_type": "code",
      "execution_count": null,
      "metadata": {
        "colab": {
          "base_uri": "https://localhost:8080/"
        },
        "id": "HrwGdEQmXx6M",
        "outputId": "b4701d2a-cd50-4dc2-f841-262ae3222f8c"
      },
      "outputs": [
        {
          "name": "stdout",
          "output_type": "stream",
          "text": [
            "Not Prime\n",
            "Prime\n",
            "Not Prime\n",
            "Prime\n"
          ]
        }
      ],
      "source": []
    },
    {
      "cell_type": "code",
      "execution_count": 6,
      "metadata": {
        "colab": {
          "base_uri": "https://localhost:8080/"
        },
        "id": "jNeq0Fk7-GC7",
        "outputId": "12342da4-513a-4066-fb59-5f6cd8595348"
      },
      "outputs": [
        {
          "name": "stdout",
          "output_type": "stream",
          "text": [
            "32 10\n"
          ]
        }
      ],
      "source": [
        "def swap(a,b):\n",
        "  a, b = b, a\n",
        "  return a,b\n",
        "\n",
        "x, y = 10, 32\n",
        "x, y = swap(x,y)\n",
        "print(x,y)"
      ]
    },
    {
      "cell_type": "markdown",
      "metadata": {
        "id": "1_scnGCJMV3_"
      },
      "source": [
        "# Example of Algorithms:\n"
      ]
    },
    {
      "cell_type": "markdown",
      "metadata": {
        "id": "iEnkeGh_OSfX"
      },
      "source": [
        "There are countless algorithms in programming, and the number is constantly growing as new ones are developed. Some popular algorithms used in programming include:\n",
        "\n",
        "1.  Searching algorithms (e.g., linear search, binary search) which include searching on graphs algorithms (e.g., breadth-first search, depth-first search).\n",
        "\n",
        "2.  Sorting algorithms (e.g., bubble sort, merge sort, quicksort).\n",
        "\n",
        "3.  Optimization algorithms (e.g., gradient descent, simulated annealing)."
      ]
    },
    {
      "cell_type": "markdown",
      "metadata": {
        "id": "pCNvdWH4fFKL"
      },
      "source": [
        "# Searching Algorithms:"
      ]
    },
    {
      "cell_type": "markdown",
      "metadata": {
        "id": "qlf2FUqPfJGL"
      },
      "source": [
        "### Linear Search:\n"
      ]
    },
    {
      "cell_type": "markdown",
      "metadata": {
        "id": "D-V8lTR6fWpI"
      },
      "source": [
        "![](https://media.geeksforgeeks.org/wp-content/cdn-uploads/Linear-Search.png)\n",
        "\n",
        "\n",
        "http://geeksforgeeks.org/"
      ]
    },
    {
      "cell_type": "markdown",
      "metadata": {
        "id": "Y2bOtLAJhFBe"
      },
      "source": [
        "Linear Search Algorithm:\n",
        "\n",
        "- Step 1: First, read the search element (Target element) in the array.\n",
        "- Step 2: In the second step compare the search element with the first element in the array.\n",
        "- Step 3: If both are matched, display “Target element is found” and terminate the Linear Search\n",
        "function.\n",
        "- Step 4: If both are not matched, compare the search element with the next element in the array.\n",
        "- Step 5: In this step, repeat steps 3 and 4 until the search (Target) element is compared with the\n",
        "last element of the array.\n",
        "- Step 6 – If the last element in the list does not match, the Linear Search Function will be\n",
        "terminated, and the message “Element is not found” will be displayed."
      ]
    },
    {
      "cell_type": "markdown",
      "metadata": {
        "id": "5uZ6U4XIhwm4"
      },
      "source": [
        "### Ex:"
      ]
    },
    {
      "cell_type": "code",
      "execution_count": null,
      "metadata": {
        "colab": {
          "base_uri": "https://localhost:8080/"
        },
        "id": "uL2Guoi0hmTX",
        "outputId": "80e05fcd-5712-4535-dd5a-6ed4f55f010b"
      },
      "outputs": [
        {
          "data": {
            "text/plain": [
              "0"
            ]
          },
          "execution_count": 7,
          "metadata": {},
          "output_type": "execute_result"
        }
      ],
      "source": [
        "# write a python code to linearly search target in a list.\n",
        "# If target is present then return its location,\n",
        "# otherwise return -1\n",
        "arr = [2, 3, 4, 10, 2]\n",
        "# target = int(input(\"Enter your target:\"))\n",
        "# N = len(arr)\n",
        "\n",
        "def linearSearch(arr, N, target):\n",
        "    for i in range(len(arr)+1):\n",
        "      if target == arr[i] :\n",
        "        return i\n",
        "      else:\n",
        "        return -1\n",
        "\n",
        "linearSearch(arr, 5, 2)\n"
      ]
    },
    {
      "cell_type": "markdown",
      "metadata": {
        "id": "ysrfawT_iuhm"
      },
      "source": [
        "### Advantages of Linear Search:\n",
        "- Linear search is simple to implement and easy to understand.\n",
        "- Linear search can be used irrespective of whether the array is sorted or not. It can be used on arrays of any data type.\n",
        "- Does not require any additional memory.\n",
        "- It is a well suited algorithm for small datasets.\n",
        "\n",
        "\n",
        "### Drawbacks of Linear Search:\n",
        "- Linear search has a time complexity of O(n), which in turn makes it slow for large datasets.\n",
        "- Not suitable for large array."
      ]
    },
    {
      "cell_type": "markdown",
      "metadata": {
        "id": "QVV6NdEFpcXC"
      },
      "source": [
        "### Binary Search:\n"
      ]
    },
    {
      "cell_type": "markdown",
      "metadata": {
        "id": "oQzd5QYppwVc"
      },
      "source": [
        "\n",
        " is a searching algorithm used in a sorted array by repeatedly dividing the search interval in half. The idea of binary search is to use the information that the array is sorted and reduce the time complexity to O(Log n)."
      ]
    },
    {
      "cell_type": "markdown",
      "metadata": {
        "id": "4wgvhMjhqe5k"
      },
      "source": [
        "### Binary Search Algorithm can be implemented in the following two ways:\n",
        "\n",
        "- Iterative Method\n",
        "- Recursive Method"
      ]
    },
    {
      "cell_type": "markdown",
      "metadata": {
        "id": "uGKBH2JOow2O"
      },
      "source": [
        "![](https://blog.penjee.com/wp-content/uploads/2015/04/binary-and-linear-search-animations.gif)"
      ]
    },
    {
      "cell_type": "markdown",
      "metadata": {
        "id": "e2fM4ry5BbDR"
      },
      "source": [
        "\n",
        "\n",
        "```\n",
        "## Iterative Method (Pseudo-Code)\n",
        "binarySearch(arr, x, low, high)\n",
        "        repeat till low > high\n",
        "               mid = (low + high)/2\n",
        "                   if (x == arr[mid])\n",
        "                   return mid\n",
        "\n",
        "                   else if (x > arr[mid]) // x is on the right side\n",
        "                       low = mid + 1\n",
        "\n",
        "                   else                  // x is on the left side\n",
        "                       high = mid - 1\n",
        "```\n",
        "\n"
      ]
    },
    {
      "cell_type": "code",
      "execution_count": null,
      "metadata": {
        "colab": {
          "base_uri": "https://localhost:8080/"
        },
        "id": "uEgjqbL-X5kv",
        "outputId": "5965f1fb-f60b-4a74-fac5-6f994432ff2a"
      },
      "outputs": [
        {
          "name": "stdout",
          "output_type": "stream",
          "text": [
            "3\n",
            "-1\n",
            "1\n"
          ]
        }
      ],
      "source": [
        "# Write your code here for the iterative case to binary search x in a list.\n",
        "# If x is present then return its location,\n",
        "# otherwise return -1\n",
        "arr = [2, 3, 4, 10, 40]\n",
        "x = 10\n",
        "N = len(arr)\n",
        "\n",
        "def binarySearch_Iter(arr, l, r, x):\n",
        "  while l <= r:\n",
        "    mid = (l+r)//2\n",
        "    if (x == arr[mid]):\n",
        "      return mid\n",
        "    elif x > arr[mid]:\n",
        "      l = mid + 1\n",
        "    else:\n",
        "      r = mid - 1\n",
        "  return -1\n",
        "\n",
        "print(binarySearch_Iter(arr,0,N-1,10))\n",
        "print(binarySearch_Iter(arr,0,N-1,100))\n",
        "print(binarySearch_Iter(arr,0,N-1,3))"
      ]
    },
    {
      "cell_type": "markdown",
      "metadata": {
        "id": "o0r9vf2yHJnq"
      },
      "source": [
        "\n",
        "\n",
        "```\n",
        "## Recursive method (Pseudo-Code)\n",
        " binarySearch(arr, x, low, high)\n",
        "           if low > high\n",
        "               return False\n",
        "\n",
        "           else\n",
        "               mid = (low + high) / 2\n",
        "                   if x == arr[mid]\n",
        "                   return mid\n",
        "\n",
        "               else if x > arr[mid]        // x is on the right side\n",
        "                   return binarySearch(arr, x, mid + 1, high)\n",
        "\n",
        "               else                        // x is on the left side\n",
        "                   return binarySearch(arr, x, low, mid - 1)\n",
        "```\n",
        "\n"
      ]
    },
    {
      "cell_type": "code",
      "execution_count": null,
      "metadata": {
        "colab": {
          "base_uri": "https://localhost:8080/"
        },
        "id": "rDPZyIW_YBNL",
        "outputId": "6968d276-c1a6-4383-de72-9b5e23768c91"
      },
      "outputs": [
        {
          "name": "stdout",
          "output_type": "stream",
          "text": [
            "3\n",
            "-1\n",
            "1\n"
          ]
        }
      ],
      "source": [
        "# Write your code here for the recursive approach to binary search x in a list.\n",
        "# If x is present then return its location,\n",
        "# otherwise return -1\n",
        "arr = [2, 3, 4, 10, 40]\n",
        "x = 10\n",
        "# N = len(arr)\n",
        "\n",
        "def binarySearch_Rec(arr, l, r, x):\n",
        "  if l > r :\n",
        "    return -1\n",
        "  else:\n",
        "    mid = (l+r)//2\n",
        "    if x == arr[mid]:\n",
        "      return mid\n",
        "    elif x > arr[mid]:\n",
        "      l = mid+1\n",
        "      return binarySearch_Rec(arr, l, r, x)\n",
        "    else:\n",
        "      r = mid - 1\n",
        "      return binarySearch_Rec(arr, l, r, x)\n",
        "\n",
        "\n",
        "print(binarySearch_Rec(arr,0,N-1,10))\n",
        "print(binarySearch_Rec(arr,0,N-1,100))\n",
        "print(binarySearch_Rec(arr,0,N-1,3))"
      ]
    },
    {
      "cell_type": "markdown",
      "metadata": {
        "id": "db7vpsa4scf3"
      },
      "source": [
        "Advantages of Binary Search:\n",
        "- Binary search is faster than linear search;linear search increases linearly, while binary search increases logarithmically.\n",
        "\n",
        "- Binary search is relatively simple to implement and easy to understand.\n",
        "\n",
        "- Binary search is well-suited for searching large datasets that are stored in external memory, such as on a hard drive or in the cloud.\n",
        "\n",
        "- Binary search can be used as a building block for more complex algorithms, such as those used in computer graphics and machine learning.\n",
        "\n",
        "\n",
        "Drawbacks of Binary Search:\n",
        "\n",
        "- We require the array to be sorted. If the array is not sorted, we must first sort it before performing the search. This adds an additional O(n log n) time complexity.\n",
        "\n",
        "- Binary search requires that the array being searched be stored in contiguous memory locations. This can be a problem if the array is too large to fit in memory.\n",
        "\n",
        "- Binary search requires that the elements of the array be comparable, meaning that they must be able to be ordered. This can be a problem if the elements of the array are not naturally ordered, or if the ordering is not well-defined."
      ]
    },
    {
      "cell_type": "markdown",
      "metadata": {
        "id": "nETksFEgB42h"
      },
      "source": [
        "# Sorting Algorithms:"
      ]
    },
    {
      "cell_type": "markdown",
      "metadata": {
        "id": "KzRjQHR4B7Uq"
      },
      "source": [
        "### Merge-Sort & (2 way Merge-Sort)"
      ]
    },
    {
      "cell_type": "markdown",
      "metadata": {
        "id": "mKQeVm5tCM81"
      },
      "source": [
        "There are two approaches to implement this Algorithm.\n",
        "1. Recursively: which called MergeSort\n",
        "2. iteratively: which called (2-way mergeSort)"
      ]
    },
    {
      "cell_type": "markdown",
      "metadata": {
        "id": "jfF9Mk5cIQHM"
      },
      "source": [
        "### What is Merging:\n",
        "\n",
        "- Merging is a process of combining two sorted list into a single sorted list."
      ]
    },
    {
      "cell_type": "markdown",
      "metadata": {
        "id": "NAk4APQNCHBE"
      },
      "source": [
        "### Recursively:"
      ]
    },
    {
      "cell_type": "markdown",
      "metadata": {
        "id": "XOQifeqoNRWN"
      },
      "source": [
        "The merge sort algorithm can be divided into three steps, like all divide-and-conquer algorithms:\n",
        "\n",
        "- Divide the given unsorted list into several sublists.  (Divide)\n",
        "\n",
        "- Sort each of the sublists recursively.  (Conquer)\n",
        "\n",
        "- Merge the sorted sublists to produce new sorted list.  (Combine)"
      ]
    },
    {
      "cell_type": "markdown",
      "metadata": {
        "id": "A4xKpfNgED2S"
      },
      "source": [
        "<div>\n",
        "<img src=\"https://upload.wikimedia.org/wikipedia/commons/c/cc/Merge-sort-example-300px.gif?20151222172210\" width=\"600\"/>\n",
        "</div>"
      ]
    },
    {
      "cell_type": "markdown",
      "metadata": {
        "id": "8t6xtJfC9HCH"
      },
      "source": [
        "\n",
        "\n",
        "```\n",
        "MergeSort(arr , l , h) <br>\n",
        "{\n",
        "  <br><br>\n",
        "  if (l < h)\n",
        "  \n",
        "  {\n",
        "  <br>\n",
        "  mid = (l + h) / 2 <br><br>\n",
        "  MergeSort(arr , l , mid) <br><br>\n",
        "  MergeSort(arr ,mid + 1, h)<br><br>\n",
        "  merge(arr,l, mid , h)<br><br>\n",
        "  } <br><br>\n",
        "}\n",
        "\n",
        "<br><br>\n",
        "Merge(arr , l , mid, h) <br>\n",
        "{\n",
        "  <br>\n",
        "  $n_1$ = mid - l + 1<br>\n",
        "  $n_2$ = h - mid<br>\n",
        "  Let L[$1 , \\dots , n_1 +1$] and R[$1,\\dots, n_2 +1$] be new arrays<br><br>\n",
        "  for i = 1 to $n_1$\n",
        "\n",
        "  {\n",
        "    <br>\n",
        "    L[i] = arr[l + i -1]\n",
        "\n",
        "  }\n",
        "\n",
        "  for j = 1 to $n_2$\n",
        "\n",
        "  {<br>\n",
        "    R[j] = arr[mid +j]\n",
        "\n",
        "  }\n",
        "\n",
        "  L[$n_1 + 1$] = $∞$<br>\n",
        "  L[$n_2 + 1$] = $∞$<br>\n",
        "  i = 1<br>\n",
        "  j= 1<br>\n",
        "  <br>\n",
        "  for k = l to h\n",
        "  <br>\n",
        "  {<br>\n",
        "  if L[i] $\\leq$ R[j]\n",
        "  <br>\n",
        "  {<br>\n",
        "  arr[k] = L[i]<br>\n",
        "  i = i + 1<br>\n",
        "  \n",
        "  }<br>\n",
        "  else<br>\n",
        "  {<br>\n",
        "  arr[k] = R[j]<br>\n",
        "  j = j + 1\n",
        "\n",
        "  }<br>\n",
        "  }\n",
        "\n",
        "}\n",
        "```\n",
        "\n"
      ]
    },
    {
      "cell_type": "code",
      "execution_count": 4,
      "metadata": {
        "colab": {
          "base_uri": "https://localhost:8080/"
        },
        "id": "AnxAG9cpu3ca",
        "outputId": "c2e70dd8-9c84-4b8c-9810-e2f9b4cd4f27"
      },
      "outputs": [
        {
          "name": "stdout",
          "output_type": "stream",
          "text": [
            "Original array: [9, 3, 7, 5, 6, 4, 8, 2]\n",
            "Sorted array: [2, 3, 4, 5, 6, 7, 8, 9]\n"
          ]
        }
      ],
      "source": [
        "def merge_sort(arr):\n",
        "    # Base case: a list of 0 or 1 element is already sorted\n",
        "    if len(arr) <= 1:\n",
        "        return arr\n",
        "\n",
        "    # -------- DIVIDE --------\n",
        "    mid = len(arr) // 2\n",
        "    left = arr[:mid]\n",
        "    right = arr[mid:]\n",
        "\n",
        "    # -------- CONQUER --------\n",
        "    sorted_left = merge_sort(left)\n",
        "    sorted_right = merge_sort(right)\n",
        "\n",
        "    # -------- MERGE --------\n",
        "    return merge(sorted_left, sorted_right)\n",
        "\n",
        "\n",
        "def merge(left, right):\n",
        "    merged = []\n",
        "    i = j = 0\n",
        "\n",
        "    # Compare and merge elements\n",
        "    while i < len(left) and j < len(right):\n",
        "        if left[i] < right[j]:\n",
        "            merged.append(left[i])\n",
        "            i += 1\n",
        "        else:\n",
        "            merged.append(right[j])\n",
        "            j += 1\n",
        "\n",
        "    # Add any remaining elements\n",
        "    merged.extend(left[i:])\n",
        "    merged.extend(right[j:])\n",
        "\n",
        "    return merged\n",
        "\n",
        "\n",
        "# -------- Example Usage --------\n",
        "arr = [9,3,7,5,6,4,8,2]\n",
        "print(\"Original array:\", arr)\n",
        "\n",
        "sorted_arr = merge_sort(arr)\n",
        "print(\"Sorted array:\", sorted_arr)\n"
      ]
    },
    {
      "cell_type": "markdown",
      "metadata": {
        "id": "XzqXb5-ZK0ma"
      },
      "source": [
        "### iteratively:\n"
      ]
    },
    {
      "cell_type": "code",
      "execution_count": 5,
      "metadata": {
        "colab": {
          "base_uri": "https://localhost:8080/"
        },
        "id": "yC_BF_UZF7cX",
        "outputId": "bdaabfa0-3939-4b9e-dbca-c632fad0e151"
      },
      "outputs": [
        {
          "name": "stdout",
          "output_type": "stream",
          "text": [
            "Original array: [9, 3, 7, 5, 6, 4, 8, 2]\n",
            "Sorted array (Iterative): [2, 3, 4, 5, 6, 7, 8, 9]\n"
          ]
        }
      ],
      "source": [
        "# Iterative algorithm.\n",
        "\n",
        "def merge_sort_iterative(arr):\n",
        "    n = len(arr)\n",
        "    width = 1  # Start with sublists of size 1\n",
        "\n",
        "    while width < n:\n",
        "        # Go through array in chunks of 2*width\n",
        "        for i in range(0, n, 2 * width):\n",
        "            left = arr[i:i + width]\n",
        "            right = arr[i + width:i + 2 * width]\n",
        "            arr[i:i + 2 * width] = merge(left, right)\n",
        "        width *= 2  # Double the width for the next level\n",
        "\n",
        "    return arr\n",
        "\n",
        "\n",
        "def merge(left, right):\n",
        "    result = []\n",
        "    i = j = 0\n",
        "\n",
        "    # Merge logic (same as before)\n",
        "    while i < len(left) and j < len(right):\n",
        "        if left[i] < right[j]:\n",
        "            result.append(left[i])\n",
        "            i += 1\n",
        "        else:\n",
        "            result.append(right[j])\n",
        "            j += 1\n",
        "\n",
        "    # Append any remaining items\n",
        "    result.extend(left[i:])\n",
        "    result.extend(right[j:])\n",
        "    return result\n",
        "\n",
        "\n",
        "# -------- Example Usage --------\n",
        "arr = [9,3,7,5,6,4,8,2]\n",
        "print(\"Original array:\", arr)\n",
        "\n",
        "sorted_arr = merge_sort_iterative(arr.copy())  # Use .copy() to keep original unchanged\n",
        "print(\"Sorted array (Iterative):\", sorted_arr)\n",
        "\n"
      ]
    }
  ],
  "metadata": {
    "colab": {
      "provenance": []
    },
    "kernelspec": {
      "display_name": "3.13.2",
      "language": "python",
      "name": "python3"
    },
    "language_info": {
      "codemirror_mode": {
        "name": "ipython",
        "version": 3
      },
      "file_extension": ".py",
      "mimetype": "text/x-python",
      "name": "python",
      "nbconvert_exporter": "python",
      "pygments_lexer": "ipython3",
      "version": "3.13.2"
    }
  },
  "nbformat": 4,
  "nbformat_minor": 0
}
