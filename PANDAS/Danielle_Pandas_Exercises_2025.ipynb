{
  "cells": [
    {
      "cell_type": "markdown",
      "metadata": {
        "id": "NcgI3FSJsQy4"
      },
      "source": [
        "#### To Get started please compile this line of code below"
      ]
    },
    {
      "cell_type": "code",
      "execution_count": 1,
      "metadata": {
        "colab": {
          "base_uri": "https://localhost:8080/"
        },
        "id": "bWz0CqNGsUJu",
        "outputId": "302af0e4-6ce6-40a5-d8ad-10cdaa682581"
      },
      "outputs": [
        {
          "name": "stdout",
          "output_type": "stream",
          "text": [
            "zsh:1: command not found: gdown\n",
            "unzip:  cannot find or open winemag-data-130k-v2.csv.zip, winemag-data-130k-v2.csv.zip.zip or winemag-data-130k-v2.csv.zip.ZIP.\n"
          ]
        }
      ],
      "source": [
        "!gdown --id 15qGep08tIBlbiRItJqbhc-M4aEfV7vJF\n",
        "!unzip winemag-data-130k-v2.csv.zip\n",
        "!rm -rf winemag-data-130k-v2.csv.zip"
      ]
    },
    {
      "cell_type": "code",
      "execution_count": 253,
      "metadata": {
        "id": "xlTDFP4FciVw"
      },
      "outputs": [],
      "source": [
        "import pandas as pd\n",
        "import numpy as np"
      ]
    },
    {
      "cell_type": "markdown",
      "metadata": {
        "id": "a18_PHpVeWL7"
      },
      "source": [
        "# Section A : Creating, Reading and Writing"
      ]
    },
    {
      "cell_type": "markdown",
      "metadata": {
        "id": "bn5o2D0pd_zN"
      },
      "source": [
        "## 1 .\n",
        "\n",
        "In the cell below, create a DataFrame `fruits` that looks like this:\n",
        "\n",
        "![](https://i.imgur.com/Ax3pp2A.png)"
      ]
    },
    {
      "cell_type": "code",
      "execution_count": 10,
      "metadata": {
        "id": "liIzyyoSdhWu"
      },
      "outputs": [
        {
          "data": {
            "text/html": [
              "<div>\n",
              "<style scoped>\n",
              "    .dataframe tbody tr th:only-of-type {\n",
              "        vertical-align: middle;\n",
              "    }\n",
              "\n",
              "    .dataframe tbody tr th {\n",
              "        vertical-align: top;\n",
              "    }\n",
              "\n",
              "    .dataframe thead th {\n",
              "        text-align: right;\n",
              "    }\n",
              "</style>\n",
              "<table border=\"1\" class=\"dataframe\">\n",
              "  <thead>\n",
              "    <tr style=\"text-align: right;\">\n",
              "      <th></th>\n",
              "      <th>Apples</th>\n",
              "      <th>Bananas</th>\n",
              "    </tr>\n",
              "  </thead>\n",
              "  <tbody>\n",
              "    <tr>\n",
              "      <th>0</th>\n",
              "      <td>30</td>\n",
              "      <td>21</td>\n",
              "    </tr>\n",
              "  </tbody>\n",
              "</table>\n",
              "</div>"
            ],
            "text/plain": [
              "   Apples  Bananas\n",
              "0      30       21"
            ]
          },
          "execution_count": 10,
          "metadata": {},
          "output_type": "execute_result"
        }
      ],
      "source": [
        "# Your code goes here. Create a dataframe matching the above diagram and assign it to the variable fruits.\n",
        "#fruits = {'Apples': 30, 'Bananas': 21}\n",
        "fruits = pd.DataFrame( {'Apples': 30, 'Bananas': 21}, index= [0])\n",
        "fruits"
      ]
    },
    {
      "cell_type": "markdown",
      "metadata": {
        "id": "2I1Q8b7kehW7"
      },
      "source": [
        "## 2.\n",
        "\n",
        "Create a dataframe `fruit_sales` that matches the diagram below:\n",
        "\n",
        "![](https://i.imgur.com/CHPn7ZF.png)"
      ]
    },
    {
      "cell_type": "code",
      "execution_count": 22,
      "metadata": {
        "id": "9Wsc0SuMdhSq"
      },
      "outputs": [
        {
          "data": {
            "text/html": [
              "<div>\n",
              "<style scoped>\n",
              "    .dataframe tbody tr th:only-of-type {\n",
              "        vertical-align: middle;\n",
              "    }\n",
              "\n",
              "    .dataframe tbody tr th {\n",
              "        vertical-align: top;\n",
              "    }\n",
              "\n",
              "    .dataframe thead th {\n",
              "        text-align: right;\n",
              "    }\n",
              "</style>\n",
              "<table border=\"1\" class=\"dataframe\">\n",
              "  <thead>\n",
              "    <tr style=\"text-align: right;\">\n",
              "      <th></th>\n",
              "      <th>Apples</th>\n",
              "      <th>Bananas</th>\n",
              "    </tr>\n",
              "  </thead>\n",
              "  <tbody>\n",
              "    <tr>\n",
              "      <th>2017 Sales</th>\n",
              "      <td>35</td>\n",
              "      <td>21</td>\n",
              "    </tr>\n",
              "    <tr>\n",
              "      <th>2018 Sales</th>\n",
              "      <td>41</td>\n",
              "      <td>34</td>\n",
              "    </tr>\n",
              "  </tbody>\n",
              "</table>\n",
              "</div>"
            ],
            "text/plain": [
              "            Apples  Bananas\n",
              "2017 Sales      35       21\n",
              "2018 Sales      41       34"
            ]
          },
          "execution_count": 22,
          "metadata": {},
          "output_type": "execute_result"
        }
      ],
      "source": [
        "# Your code goes here. Create a dataframe matching the above diagram and assign it to the variable fruit_sales.\n",
        "f1 = {'2017 Sales': 35, '2018 Sales': 41}\n",
        "f2 =  {'2017 Sales': 21, '2018 Sales': 34}\n",
        "fruit_sales = pd.DataFrame({'Apples': f1, 'Bananas': f2})\n",
        "fruit_sales"
      ]
    },
    {
      "cell_type": "markdown",
      "metadata": {
        "id": "MQXruKkbe3UI"
      },
      "source": [
        "## 3.\n",
        "\n",
        "Create a variable `ingredients` with a Series that looks like:\n",
        "\n",
        "```\n",
        "Flour     4 cups\n",
        "Milk       1 cup\n",
        "Eggs     2 large\n",
        "Spam       1 can\n",
        "Name: Dinner, dtype: object\n",
        "```"
      ]
    },
    {
      "cell_type": "code",
      "execution_count": 25,
      "metadata": {},
      "outputs": [
        {
          "data": {
            "text/plain": [
              "Flour     4 cups\n",
              "Milk       1 cup\n",
              "Eggs     2 large\n",
              "Spam       1 can\n",
              "Name: Dinner, dtype: object"
            ]
          },
          "execution_count": 25,
          "metadata": {},
          "output_type": "execute_result"
        }
      ],
      "source": [
        "ingredients = pd.Series({'Flour': '4 cups', 'Milk':'1 cup', 'Eggs':'2 large', 'Spam': '1 can'}, name= 'Dinner')\n",
        "ingredients"
      ]
    },
    {
      "cell_type": "markdown",
      "metadata": {
        "id": "BMoTA5jkglku"
      },
      "source": [
        "## 4.\n",
        "\n",
        "Read the following csv dataset of wine reviews into a DataFrame called `reviews`:\n",
        "\n",
        "The filepath to the csv file is `winemag-data-130k-v2.csv`. The first few lines look like:\n",
        "\n",
        "```\n",
        ",country,description,designation,points,price,province,region_1,region_2,variety,winery\n",
        "0,US,\"This tremendous 100% varietal wine[...]\",Martha's Vineyard,96,235.0,California,Napa Valley,Napa,Cabernet Sauvignon,Heitz\n",
        "1,Spain,\"Ripe aromas of fig, blackberry and[...]\",Carodorum Selección Especial Reserva,96,110.0,Northern Spain,Toro,,Tinta de Toro,Bodega Carmen Rodríguez\n",
        "```"
      ]
    },
    {
      "cell_type": "code",
      "execution_count": 245,
      "metadata": {
        "colab": {
          "base_uri": "https://localhost:8080/",
          "height": 736
        },
        "id": "2h8XUowCdhJ-",
        "outputId": "692858dd-31cd-4f81-bf1a-6f37e0fd202d"
      },
      "outputs": [
        {
          "data": {
            "text/html": [
              "<div>\n",
              "<style scoped>\n",
              "    .dataframe tbody tr th:only-of-type {\n",
              "        vertical-align: middle;\n",
              "    }\n",
              "\n",
              "    .dataframe tbody tr th {\n",
              "        vertical-align: top;\n",
              "    }\n",
              "\n",
              "    .dataframe thead th {\n",
              "        text-align: right;\n",
              "    }\n",
              "</style>\n",
              "<table border=\"1\" class=\"dataframe\">\n",
              "  <thead>\n",
              "    <tr style=\"text-align: right;\">\n",
              "      <th></th>\n",
              "      <th>country</th>\n",
              "      <th>description</th>\n",
              "      <th>designation</th>\n",
              "      <th>points</th>\n",
              "      <th>price</th>\n",
              "      <th>province</th>\n",
              "      <th>region_1</th>\n",
              "      <th>region_2</th>\n",
              "      <th>taster_name</th>\n",
              "      <th>taster_twitter_handle</th>\n",
              "      <th>title</th>\n",
              "      <th>variety</th>\n",
              "      <th>winery</th>\n",
              "    </tr>\n",
              "  </thead>\n",
              "  <tbody>\n",
              "    <tr>\n",
              "      <th>0</th>\n",
              "      <td>Italy</td>\n",
              "      <td>Aromas include tropical fruit, broom, brimston...</td>\n",
              "      <td>Vulkà Bianco</td>\n",
              "      <td>87</td>\n",
              "      <td>NaN</td>\n",
              "      <td>Sicily &amp; Sardinia</td>\n",
              "      <td>Etna</td>\n",
              "      <td>NaN</td>\n",
              "      <td>Kerin O’Keefe</td>\n",
              "      <td>@kerinokeefe</td>\n",
              "      <td>Nicosia 2013 Vulkà Bianco  (Etna)</td>\n",
              "      <td>White Blend</td>\n",
              "      <td>Nicosia</td>\n",
              "    </tr>\n",
              "    <tr>\n",
              "      <th>1</th>\n",
              "      <td>Portugal</td>\n",
              "      <td>This is ripe and fruity, a wine that is smooth...</td>\n",
              "      <td>Avidagos</td>\n",
              "      <td>87</td>\n",
              "      <td>15.0</td>\n",
              "      <td>Douro</td>\n",
              "      <td>NaN</td>\n",
              "      <td>NaN</td>\n",
              "      <td>Roger Voss</td>\n",
              "      <td>@vossroger</td>\n",
              "      <td>Quinta dos Avidagos 2011 Avidagos Red (Douro)</td>\n",
              "      <td>Portuguese Red</td>\n",
              "      <td>Quinta dos Avidagos</td>\n",
              "    </tr>\n",
              "    <tr>\n",
              "      <th>2</th>\n",
              "      <td>US</td>\n",
              "      <td>Tart and snappy, the flavors of lime flesh and...</td>\n",
              "      <td>NaN</td>\n",
              "      <td>87</td>\n",
              "      <td>14.0</td>\n",
              "      <td>Oregon</td>\n",
              "      <td>Willamette Valley</td>\n",
              "      <td>Willamette Valley</td>\n",
              "      <td>Paul Gregutt</td>\n",
              "      <td>@paulgwine</td>\n",
              "      <td>Rainstorm 2013 Pinot Gris (Willamette Valley)</td>\n",
              "      <td>Pinot Gris</td>\n",
              "      <td>Rainstorm</td>\n",
              "    </tr>\n",
              "    <tr>\n",
              "      <th>3</th>\n",
              "      <td>US</td>\n",
              "      <td>Pineapple rind, lemon pith and orange blossom ...</td>\n",
              "      <td>Reserve Late Harvest</td>\n",
              "      <td>87</td>\n",
              "      <td>13.0</td>\n",
              "      <td>Michigan</td>\n",
              "      <td>Lake Michigan Shore</td>\n",
              "      <td>NaN</td>\n",
              "      <td>Alexander Peartree</td>\n",
              "      <td>NaN</td>\n",
              "      <td>St. Julian 2013 Reserve Late Harvest Riesling ...</td>\n",
              "      <td>Riesling</td>\n",
              "      <td>St. Julian</td>\n",
              "    </tr>\n",
              "    <tr>\n",
              "      <th>4</th>\n",
              "      <td>US</td>\n",
              "      <td>Much like the regular bottling from 2012, this...</td>\n",
              "      <td>Vintner's Reserve Wild Child Block</td>\n",
              "      <td>87</td>\n",
              "      <td>65.0</td>\n",
              "      <td>Oregon</td>\n",
              "      <td>Willamette Valley</td>\n",
              "      <td>Willamette Valley</td>\n",
              "      <td>Paul Gregutt</td>\n",
              "      <td>@paulgwine</td>\n",
              "      <td>Sweet Cheeks 2012 Vintner's Reserve Wild Child...</td>\n",
              "      <td>Pinot Noir</td>\n",
              "      <td>Sweet Cheeks</td>\n",
              "    </tr>\n",
              "  </tbody>\n",
              "</table>\n",
              "</div>"
            ],
            "text/plain": [
              "    country                                        description  \\\n",
              "0     Italy  Aromas include tropical fruit, broom, brimston...   \n",
              "1  Portugal  This is ripe and fruity, a wine that is smooth...   \n",
              "2        US  Tart and snappy, the flavors of lime flesh and...   \n",
              "3        US  Pineapple rind, lemon pith and orange blossom ...   \n",
              "4        US  Much like the regular bottling from 2012, this...   \n",
              "\n",
              "                          designation  points  price           province  \\\n",
              "0                        Vulkà Bianco      87    NaN  Sicily & Sardinia   \n",
              "1                            Avidagos      87   15.0              Douro   \n",
              "2                                 NaN      87   14.0             Oregon   \n",
              "3                Reserve Late Harvest      87   13.0           Michigan   \n",
              "4  Vintner's Reserve Wild Child Block      87   65.0             Oregon   \n",
              "\n",
              "              region_1           region_2         taster_name  \\\n",
              "0                 Etna                NaN       Kerin O’Keefe   \n",
              "1                  NaN                NaN          Roger Voss   \n",
              "2    Willamette Valley  Willamette Valley        Paul Gregutt   \n",
              "3  Lake Michigan Shore                NaN  Alexander Peartree   \n",
              "4    Willamette Valley  Willamette Valley        Paul Gregutt   \n",
              "\n",
              "  taster_twitter_handle                                              title  \\\n",
              "0          @kerinokeefe                  Nicosia 2013 Vulkà Bianco  (Etna)   \n",
              "1            @vossroger      Quinta dos Avidagos 2011 Avidagos Red (Douro)   \n",
              "2           @paulgwine       Rainstorm 2013 Pinot Gris (Willamette Valley)   \n",
              "3                   NaN  St. Julian 2013 Reserve Late Harvest Riesling ...   \n",
              "4           @paulgwine   Sweet Cheeks 2012 Vintner's Reserve Wild Child...   \n",
              "\n",
              "          variety               winery  \n",
              "0     White Blend              Nicosia  \n",
              "1  Portuguese Red  Quinta dos Avidagos  \n",
              "2      Pinot Gris            Rainstorm  \n",
              "3        Riesling           St. Julian  \n",
              "4      Pinot Noir         Sweet Cheeks  "
            ]
          },
          "execution_count": 245,
          "metadata": {},
          "output_type": "execute_result"
        }
      ],
      "source": [
        "reviews = pd.read_csv('winemag-data-130k-v2.csv', index_col = 0)\n",
        "reviews.head(5)\n",
        "\n"
      ]
    },
    {
      "cell_type": "markdown",
      "metadata": {
        "id": "ST6u-X_Iuly9"
      },
      "source": [
        "## 5.\n",
        "\n",
        "Run the cell below to create and display a DataFrame called `animals`:"
      ]
    },
    {
      "cell_type": "code",
      "execution_count": 75,
      "metadata": {
        "colab": {
          "base_uri": "https://localhost:8080/",
          "height": 125
        },
        "id": "4I8C1ITtui8d",
        "outputId": "b4abfba3-6bf1-4cba-e004-cff07b486141"
      },
      "outputs": [
        {
          "data": {
            "text/html": [
              "<div>\n",
              "<style scoped>\n",
              "    .dataframe tbody tr th:only-of-type {\n",
              "        vertical-align: middle;\n",
              "    }\n",
              "\n",
              "    .dataframe tbody tr th {\n",
              "        vertical-align: top;\n",
              "    }\n",
              "\n",
              "    .dataframe thead th {\n",
              "        text-align: right;\n",
              "    }\n",
              "</style>\n",
              "<table border=\"1\" class=\"dataframe\">\n",
              "  <thead>\n",
              "    <tr style=\"text-align: right;\">\n",
              "      <th></th>\n",
              "      <th>Cows</th>\n",
              "      <th>Goats</th>\n",
              "    </tr>\n",
              "  </thead>\n",
              "  <tbody>\n",
              "    <tr>\n",
              "      <th>Year 1</th>\n",
              "      <td>12</td>\n",
              "      <td>22</td>\n",
              "    </tr>\n",
              "    <tr>\n",
              "      <th>Year 2</th>\n",
              "      <td>20</td>\n",
              "      <td>19</td>\n",
              "    </tr>\n",
              "  </tbody>\n",
              "</table>\n",
              "</div>"
            ],
            "text/plain": [
              "        Cows  Goats\n",
              "Year 1    12     22\n",
              "Year 2    20     19"
            ]
          },
          "execution_count": 75,
          "metadata": {},
          "output_type": "execute_result"
        }
      ],
      "source": [
        "animals = pd.DataFrame({'Cows': [12, 20], 'Goats': [22, 19]}, index=['Year 1', 'Year 2'])\n",
        "animals"
      ]
    },
    {
      "cell_type": "markdown",
      "metadata": {
        "id": "mD0tF4tduvOX"
      },
      "source": [
        "In the cell below, write code to save this DataFrame to disk as a csv file with the name `cows_and_goats.csv`."
      ]
    },
    {
      "cell_type": "code",
      "execution_count": null,
      "metadata": {
        "id": "snu0YfPBuoeo"
      },
      "outputs": [],
      "source": [
        "# Your code goes here\n",
        "\n",
        "animals.to_csv('animals.csv', index = True) # the Index true take an account the index of our dataframe\n"
      ]
    },
    {
      "cell_type": "markdown",
      "metadata": {
        "id": "lECV1ogqiXd1"
      },
      "source": [
        "# Section B :  Indexing, Selecting & Assigning"
      ]
    },
    {
      "cell_type": "markdown",
      "metadata": {
        "id": "bIa12-MsvGsI"
      },
      "source": [
        "Look at an overview of your data by running the following line."
      ]
    },
    {
      "cell_type": "code",
      "execution_count": 179,
      "metadata": {
        "colab": {
          "base_uri": "https://localhost:8080/",
          "height": 310
        },
        "id": "GR9kzF-Pis07",
        "outputId": "c42e59dd-23c3-40f0-d3ff-31990269a66d"
      },
      "outputs": [
        {
          "data": {
            "text/html": [
              "<div>\n",
              "<style scoped>\n",
              "    .dataframe tbody tr th:only-of-type {\n",
              "        vertical-align: middle;\n",
              "    }\n",
              "\n",
              "    .dataframe tbody tr th {\n",
              "        vertical-align: top;\n",
              "    }\n",
              "\n",
              "    .dataframe thead th {\n",
              "        text-align: right;\n",
              "    }\n",
              "</style>\n",
              "<table border=\"1\" class=\"dataframe\">\n",
              "  <thead>\n",
              "    <tr style=\"text-align: right;\">\n",
              "      <th></th>\n",
              "      <th>country</th>\n",
              "      <th>description</th>\n",
              "      <th>designation</th>\n",
              "      <th>points</th>\n",
              "      <th>price</th>\n",
              "      <th>province</th>\n",
              "      <th>region_1</th>\n",
              "      <th>region_2</th>\n",
              "      <th>taster_name</th>\n",
              "      <th>taster_twitter_handle</th>\n",
              "      <th>title</th>\n",
              "      <th>variety</th>\n",
              "      <th>winery</th>\n",
              "    </tr>\n",
              "  </thead>\n",
              "  <tbody>\n",
              "    <tr>\n",
              "      <th>0</th>\n",
              "      <td>Italy</td>\n",
              "      <td>Aromas include tropical fruit, broom, brimston...</td>\n",
              "      <td>Vulkà Bianco</td>\n",
              "      <td>87</td>\n",
              "      <td>NaN</td>\n",
              "      <td>Sicily &amp; Sardinia</td>\n",
              "      <td>Etna</td>\n",
              "      <td>NaN</td>\n",
              "      <td>Kerin O’Keefe</td>\n",
              "      <td>@kerinokeefe</td>\n",
              "      <td>Nicosia 2013 Vulkà Bianco  (Etna)</td>\n",
              "      <td>White Blend</td>\n",
              "      <td>Nicosia</td>\n",
              "    </tr>\n",
              "    <tr>\n",
              "      <th>1</th>\n",
              "      <td>Italy</td>\n",
              "      <td>This is ripe and fruity, a wine that is smooth...</td>\n",
              "      <td>Avidagos</td>\n",
              "      <td>87</td>\n",
              "      <td>15.0</td>\n",
              "      <td>Douro</td>\n",
              "      <td>NaN</td>\n",
              "      <td>NaN</td>\n",
              "      <td>Roger Voss</td>\n",
              "      <td>@vossroger</td>\n",
              "      <td>Quinta dos Avidagos 2011 Avidagos Red (Douro)</td>\n",
              "      <td>Portuguese Red</td>\n",
              "      <td>Quinta dos Avidagos</td>\n",
              "    </tr>\n",
              "    <tr>\n",
              "      <th>2</th>\n",
              "      <td>Italy</td>\n",
              "      <td>Tart and snappy, the flavors of lime flesh and...</td>\n",
              "      <td>NaN</td>\n",
              "      <td>87</td>\n",
              "      <td>14.0</td>\n",
              "      <td>Oregon</td>\n",
              "      <td>Willamette Valley</td>\n",
              "      <td>Willamette Valley</td>\n",
              "      <td>Paul Gregutt</td>\n",
              "      <td>@paulgwine</td>\n",
              "      <td>Rainstorm 2013 Pinot Gris (Willamette Valley)</td>\n",
              "      <td>Pinot Gris</td>\n",
              "      <td>Rainstorm</td>\n",
              "    </tr>\n",
              "    <tr>\n",
              "      <th>3</th>\n",
              "      <td>Italy</td>\n",
              "      <td>Pineapple rind, lemon pith and orange blossom ...</td>\n",
              "      <td>Reserve Late Harvest</td>\n",
              "      <td>87</td>\n",
              "      <td>13.0</td>\n",
              "      <td>Michigan</td>\n",
              "      <td>Lake Michigan Shore</td>\n",
              "      <td>NaN</td>\n",
              "      <td>Alexander Peartree</td>\n",
              "      <td>NaN</td>\n",
              "      <td>St. Julian 2013 Reserve Late Harvest Riesling ...</td>\n",
              "      <td>Riesling</td>\n",
              "      <td>St. Julian</td>\n",
              "    </tr>\n",
              "    <tr>\n",
              "      <th>4</th>\n",
              "      <td>Italy</td>\n",
              "      <td>Much like the regular bottling from 2012, this...</td>\n",
              "      <td>Vintner's Reserve Wild Child Block</td>\n",
              "      <td>87</td>\n",
              "      <td>65.0</td>\n",
              "      <td>Oregon</td>\n",
              "      <td>Willamette Valley</td>\n",
              "      <td>Willamette Valley</td>\n",
              "      <td>Paul Gregutt</td>\n",
              "      <td>@paulgwine</td>\n",
              "      <td>Sweet Cheeks 2012 Vintner's Reserve Wild Child...</td>\n",
              "      <td>Pinot Noir</td>\n",
              "      <td>Sweet Cheeks</td>\n",
              "    </tr>\n",
              "  </tbody>\n",
              "</table>\n",
              "</div>"
            ],
            "text/plain": [
              "  country                                        description  \\\n",
              "0   Italy  Aromas include tropical fruit, broom, brimston...   \n",
              "1   Italy  This is ripe and fruity, a wine that is smooth...   \n",
              "2   Italy  Tart and snappy, the flavors of lime flesh and...   \n",
              "3   Italy  Pineapple rind, lemon pith and orange blossom ...   \n",
              "4   Italy  Much like the regular bottling from 2012, this...   \n",
              "\n",
              "                          designation  points  price           province  \\\n",
              "0                        Vulkà Bianco      87    NaN  Sicily & Sardinia   \n",
              "1                            Avidagos      87   15.0              Douro   \n",
              "2                                 NaN      87   14.0             Oregon   \n",
              "3                Reserve Late Harvest      87   13.0           Michigan   \n",
              "4  Vintner's Reserve Wild Child Block      87   65.0             Oregon   \n",
              "\n",
              "              region_1           region_2         taster_name  \\\n",
              "0                 Etna                NaN       Kerin O’Keefe   \n",
              "1                  NaN                NaN          Roger Voss   \n",
              "2    Willamette Valley  Willamette Valley        Paul Gregutt   \n",
              "3  Lake Michigan Shore                NaN  Alexander Peartree   \n",
              "4    Willamette Valley  Willamette Valley        Paul Gregutt   \n",
              "\n",
              "  taster_twitter_handle                                              title  \\\n",
              "0          @kerinokeefe                  Nicosia 2013 Vulkà Bianco  (Etna)   \n",
              "1            @vossroger      Quinta dos Avidagos 2011 Avidagos Red (Douro)   \n",
              "2           @paulgwine       Rainstorm 2013 Pinot Gris (Willamette Valley)   \n",
              "3                   NaN  St. Julian 2013 Reserve Late Harvest Riesling ...   \n",
              "4           @paulgwine   Sweet Cheeks 2012 Vintner's Reserve Wild Child...   \n",
              "\n",
              "          variety               winery  \n",
              "0     White Blend              Nicosia  \n",
              "1  Portuguese Red  Quinta dos Avidagos  \n",
              "2      Pinot Gris            Rainstorm  \n",
              "3        Riesling           St. Julian  \n",
              "4      Pinot Noir         Sweet Cheeks  "
            ]
          },
          "execution_count": 179,
          "metadata": {},
          "output_type": "execute_result"
        }
      ],
      "source": [
        "reviews.head()"
      ]
    },
    {
      "cell_type": "markdown",
      "metadata": {
        "id": "g6cRWH1tva8f"
      },
      "source": [
        "## 1.\n",
        "\n",
        "Select the `description` column from `reviews` and assign the result to the variable `desc`."
      ]
    },
    {
      "cell_type": "code",
      "execution_count": null,
      "metadata": {
        "id": "Cb0SdBHLvL8w"
      },
      "outputs": [
        {
          "data": {
            "text/plain": [
              "0         Aromas include tropical fruit, broom, brimston...\n",
              "1         This is ripe and fruity, a wine that is smooth...\n",
              "2         Tart and snappy, the flavors of lime flesh and...\n",
              "3         Pineapple rind, lemon pith and orange blossom ...\n",
              "4         Much like the regular bottling from 2012, this...\n",
              "                                ...                        \n",
              "129966    Notes of honeysuckle and cantaloupe sweeten th...\n",
              "129967    Citation is given as much as a decade of bottl...\n",
              "129968    Well-drained gravel soil gives this wine its c...\n",
              "129969    A dry style of Pinot Gris, this is crisp with ...\n",
              "129970    Big, rich and off-dry, this is powered by inte...\n",
              "Name: description, Length: 129971, dtype: object"
            ]
          },
          "execution_count": 142,
          "metadata": {},
          "output_type": "execute_result"
        }
      ],
      "source": [
        "# Your code here\n",
        "desc = reviews['description']\n",
        "desc\n"
      ]
    },
    {
      "cell_type": "markdown",
      "metadata": {
        "id": "szCQ0_yxvnC5"
      },
      "source": [
        "## 2.\n",
        "\n",
        "Select the first value from the description column of `reviews`, assigning it to variable `first_description`."
      ]
    },
    {
      "cell_type": "code",
      "execution_count": null,
      "metadata": {
        "id": "AMs2Qq2dvnkU"
      },
      "outputs": [
        {
          "data": {
            "text/plain": [
              "\"Aromas include tropical fruit, broom, brimstone and dried herb. The palate isn't overly expressive, offering unripened apple, citrus and dried sage alongside brisk acidity.\""
            ]
          },
          "execution_count": 89,
          "metadata": {},
          "output_type": "execute_result"
        }
      ],
      "source": [
        "# here your code\n",
        "first_description = desc[0]\n",
        "first_description\n"
      ]
    },
    {
      "cell_type": "code",
      "execution_count": 90,
      "metadata": {},
      "outputs": [
        {
          "data": {
            "text/plain": [
              "\"Aromas include tropical fruit, broom, brimstone and dried herb. The palate isn't overly expressive, offering unripened apple, citrus and dried sage alongside brisk acidity.\""
            ]
          },
          "execution_count": 90,
          "metadata": {},
          "output_type": "execute_result"
        }
      ],
      "source": [
        "# Another ways \n",
        "first_description = reviews['description'][0]\n",
        "first_description"
      ]
    },
    {
      "cell_type": "markdown",
      "metadata": {
        "id": "R852hcw1wGOu"
      },
      "source": [
        "## 3.\n",
        "\n",
        "Select the first row of data (the first record) from `reviews`, assigning it to the variable `first_row`."
      ]
    },
    {
      "cell_type": "code",
      "execution_count": 97,
      "metadata": {
        "id": "QaAyktaDvtS3"
      },
      "outputs": [
        {
          "data": {
            "text/html": [
              "<div>\n",
              "<style scoped>\n",
              "    .dataframe tbody tr th:only-of-type {\n",
              "        vertical-align: middle;\n",
              "    }\n",
              "\n",
              "    .dataframe tbody tr th {\n",
              "        vertical-align: top;\n",
              "    }\n",
              "\n",
              "    .dataframe thead th {\n",
              "        text-align: right;\n",
              "    }\n",
              "</style>\n",
              "<table border=\"1\" class=\"dataframe\">\n",
              "  <thead>\n",
              "    <tr style=\"text-align: right;\">\n",
              "      <th></th>\n",
              "      <th>country</th>\n",
              "      <th>description</th>\n",
              "      <th>designation</th>\n",
              "      <th>points</th>\n",
              "      <th>price</th>\n",
              "      <th>province</th>\n",
              "      <th>region_1</th>\n",
              "      <th>region_2</th>\n",
              "      <th>taster_name</th>\n",
              "      <th>taster_twitter_handle</th>\n",
              "      <th>title</th>\n",
              "      <th>variety</th>\n",
              "      <th>winery</th>\n",
              "    </tr>\n",
              "  </thead>\n",
              "  <tbody>\n",
              "    <tr>\n",
              "      <th>0</th>\n",
              "      <td>Italy</td>\n",
              "      <td>Aromas include tropical fruit, broom, brimston...</td>\n",
              "      <td>Vulkà Bianco</td>\n",
              "      <td>87</td>\n",
              "      <td>NaN</td>\n",
              "      <td>Sicily &amp; Sardinia</td>\n",
              "      <td>Etna</td>\n",
              "      <td>NaN</td>\n",
              "      <td>Kerin O’Keefe</td>\n",
              "      <td>@kerinokeefe</td>\n",
              "      <td>Nicosia 2013 Vulkà Bianco  (Etna)</td>\n",
              "      <td>White Blend</td>\n",
              "      <td>Nicosia</td>\n",
              "    </tr>\n",
              "  </tbody>\n",
              "</table>\n",
              "</div>"
            ],
            "text/plain": [
              "  country                                        description   designation  \\\n",
              "0   Italy  Aromas include tropical fruit, broom, brimston...  Vulkà Bianco   \n",
              "\n",
              "   points  price           province region_1 region_2    taster_name  \\\n",
              "0      87    NaN  Sicily & Sardinia     Etna      NaN  Kerin O’Keefe   \n",
              "\n",
              "  taster_twitter_handle                              title      variety  \\\n",
              "0          @kerinokeefe  Nicosia 2013 Vulkà Bianco  (Etna)  White Blend   \n",
              "\n",
              "    winery  \n",
              "0  Nicosia  "
            ]
          },
          "execution_count": 97,
          "metadata": {},
          "output_type": "execute_result"
        }
      ],
      "source": [
        " # here your code\n",
        "first_row = reviews.head(1)\n",
        "first_row\n"
      ]
    },
    {
      "cell_type": "markdown",
      "metadata": {
        "id": "y4nTT12ZwUzk"
      },
      "source": [
        "## 4.\n",
        "\n",
        "Select the first 10 values from the `description` column in `reviews`, assigning the result to variable `first_descriptions`.\n",
        "\n",
        "Hint: format your output as a pandas Series."
      ]
    },
    {
      "cell_type": "code",
      "execution_count": 139,
      "metadata": {},
      "outputs": [
        {
          "data": {
            "text/plain": [
              "0         Aromas include tropical fruit, broom, brimston...\n",
              "1         This is ripe and fruity, a wine that is smooth...\n",
              "2         Tart and snappy, the flavors of lime flesh and...\n",
              "3         Pineapple rind, lemon pith and orange blossom ...\n",
              "4         Much like the regular bottling from 2012, this...\n",
              "                                ...                        \n",
              "129966    Notes of honeysuckle and cantaloupe sweeten th...\n",
              "129967    Citation is given as much as a decade of bottl...\n",
              "129968    Well-drained gravel soil gives this wine its c...\n",
              "129969    A dry style of Pinot Gris, this is crisp with ...\n",
              "129970    Big, rich and off-dry, this is powered by inte...\n",
              "Name: description, Length: 129971, dtype: object"
            ]
          },
          "execution_count": 139,
          "metadata": {},
          "output_type": "execute_result"
        }
      ],
      "source": [
        "reviews.description"
      ]
    },
    {
      "cell_type": "code",
      "execution_count": null,
      "metadata": {
        "id": "uI-drQyIwVZ_"
      },
      "outputs": [
        {
          "data": {
            "text/plain": [
              "0    Aromas include tropical fruit, broom, brimston...\n",
              "1    This is ripe and fruity, a wine that is smooth...\n",
              "2    Tart and snappy, the flavors of lime flesh and...\n",
              "3    Pineapple rind, lemon pith and orange blossom ...\n",
              "4    Much like the regular bottling from 2012, this...\n",
              "5    Blackberry and raspberry aromas show a typical...\n",
              "6    Here's a bright, informal red that opens with ...\n",
              "7    This dry and restrained wine offers spice in p...\n",
              "8    Savory dried thyme notes accent sunnier flavor...\n",
              "9    This has great depth of flavor with its fresh ...\n",
              "Name: description, dtype: object"
            ]
          },
          "execution_count": 116,
          "metadata": {},
          "output_type": "execute_result"
        }
      ],
      "source": [
        "# here your code\n",
        "\n",
        "first_description = reviews.description[:10]\n",
        "first_description\n",
        "\n",
        "first_description = reviews['description'][:10]\n",
        "first_description\n",
        "\n",
        "first_description = reviews['description'].head(10)\n",
        "first_description\n",
        "\n",
        "first_description = reviews['description'].iloc[:10]\n",
        "first_description"
      ]
    },
    {
      "cell_type": "markdown",
      "metadata": {
        "id": "YsTDhZSxwgzB"
      },
      "source": [
        "## 5.\n",
        "\n",
        "Select the records with index labels `1`, `2`, `3`, `5`, and `8`, assigning the result to the variable `sample_reviews`.\n",
        "\n",
        "In other words, generate the following DataFrame:\n",
        "\n",
        "![](https://i.imgur.com/sHZvI1O.png)"
      ]
    },
    {
      "cell_type": "code",
      "execution_count": 126,
      "metadata": {
        "id": "z6cuFb9JwhUF"
      },
      "outputs": [
        {
          "data": {
            "text/html": [
              "<div>\n",
              "<style scoped>\n",
              "    .dataframe tbody tr th:only-of-type {\n",
              "        vertical-align: middle;\n",
              "    }\n",
              "\n",
              "    .dataframe tbody tr th {\n",
              "        vertical-align: top;\n",
              "    }\n",
              "\n",
              "    .dataframe thead th {\n",
              "        text-align: right;\n",
              "    }\n",
              "</style>\n",
              "<table border=\"1\" class=\"dataframe\">\n",
              "  <thead>\n",
              "    <tr style=\"text-align: right;\">\n",
              "      <th></th>\n",
              "      <th>country</th>\n",
              "      <th>description</th>\n",
              "      <th>designation</th>\n",
              "      <th>points</th>\n",
              "      <th>price</th>\n",
              "      <th>province</th>\n",
              "      <th>region_1</th>\n",
              "      <th>region_2</th>\n",
              "      <th>taster_name</th>\n",
              "      <th>taster_twitter_handle</th>\n",
              "      <th>title</th>\n",
              "      <th>variety</th>\n",
              "      <th>winery</th>\n",
              "    </tr>\n",
              "  </thead>\n",
              "  <tbody>\n",
              "    <tr>\n",
              "      <th>1</th>\n",
              "      <td>Portugal</td>\n",
              "      <td>This is ripe and fruity, a wine that is smooth...</td>\n",
              "      <td>Avidagos</td>\n",
              "      <td>87</td>\n",
              "      <td>15.0</td>\n",
              "      <td>Douro</td>\n",
              "      <td>NaN</td>\n",
              "      <td>NaN</td>\n",
              "      <td>Roger Voss</td>\n",
              "      <td>@vossroger</td>\n",
              "      <td>Quinta dos Avidagos 2011 Avidagos Red (Douro)</td>\n",
              "      <td>Portuguese Red</td>\n",
              "      <td>Quinta dos Avidagos</td>\n",
              "    </tr>\n",
              "    <tr>\n",
              "      <th>2</th>\n",
              "      <td>US</td>\n",
              "      <td>Tart and snappy, the flavors of lime flesh and...</td>\n",
              "      <td>NaN</td>\n",
              "      <td>87</td>\n",
              "      <td>14.0</td>\n",
              "      <td>Oregon</td>\n",
              "      <td>Willamette Valley</td>\n",
              "      <td>Willamette Valley</td>\n",
              "      <td>Paul Gregutt</td>\n",
              "      <td>@paulgwine</td>\n",
              "      <td>Rainstorm 2013 Pinot Gris (Willamette Valley)</td>\n",
              "      <td>Pinot Gris</td>\n",
              "      <td>Rainstorm</td>\n",
              "    </tr>\n",
              "    <tr>\n",
              "      <th>3</th>\n",
              "      <td>US</td>\n",
              "      <td>Pineapple rind, lemon pith and orange blossom ...</td>\n",
              "      <td>Reserve Late Harvest</td>\n",
              "      <td>87</td>\n",
              "      <td>13.0</td>\n",
              "      <td>Michigan</td>\n",
              "      <td>Lake Michigan Shore</td>\n",
              "      <td>NaN</td>\n",
              "      <td>Alexander Peartree</td>\n",
              "      <td>NaN</td>\n",
              "      <td>St. Julian 2013 Reserve Late Harvest Riesling ...</td>\n",
              "      <td>Riesling</td>\n",
              "      <td>St. Julian</td>\n",
              "    </tr>\n",
              "    <tr>\n",
              "      <th>5</th>\n",
              "      <td>Spain</td>\n",
              "      <td>Blackberry and raspberry aromas show a typical...</td>\n",
              "      <td>Ars In Vitro</td>\n",
              "      <td>87</td>\n",
              "      <td>15.0</td>\n",
              "      <td>Northern Spain</td>\n",
              "      <td>Navarra</td>\n",
              "      <td>NaN</td>\n",
              "      <td>Michael Schachner</td>\n",
              "      <td>@wineschach</td>\n",
              "      <td>Tandem 2011 Ars In Vitro Tempranillo-Merlot (N...</td>\n",
              "      <td>Tempranillo-Merlot</td>\n",
              "      <td>Tandem</td>\n",
              "    </tr>\n",
              "    <tr>\n",
              "      <th>8</th>\n",
              "      <td>Germany</td>\n",
              "      <td>Savory dried thyme notes accent sunnier flavor...</td>\n",
              "      <td>Shine</td>\n",
              "      <td>87</td>\n",
              "      <td>12.0</td>\n",
              "      <td>Rheinhessen</td>\n",
              "      <td>NaN</td>\n",
              "      <td>NaN</td>\n",
              "      <td>Anna Lee C. Iijima</td>\n",
              "      <td>NaN</td>\n",
              "      <td>Heinz Eifel 2013 Shine Gewürztraminer (Rheinhe...</td>\n",
              "      <td>Gewürztraminer</td>\n",
              "      <td>Heinz Eifel</td>\n",
              "    </tr>\n",
              "  </tbody>\n",
              "</table>\n",
              "</div>"
            ],
            "text/plain": [
              "    country                                        description  \\\n",
              "1  Portugal  This is ripe and fruity, a wine that is smooth...   \n",
              "2        US  Tart and snappy, the flavors of lime flesh and...   \n",
              "3        US  Pineapple rind, lemon pith and orange blossom ...   \n",
              "5     Spain  Blackberry and raspberry aromas show a typical...   \n",
              "8   Germany  Savory dried thyme notes accent sunnier flavor...   \n",
              "\n",
              "            designation  points  price        province             region_1  \\\n",
              "1              Avidagos      87   15.0           Douro                  NaN   \n",
              "2                   NaN      87   14.0          Oregon    Willamette Valley   \n",
              "3  Reserve Late Harvest      87   13.0        Michigan  Lake Michigan Shore   \n",
              "5          Ars In Vitro      87   15.0  Northern Spain              Navarra   \n",
              "8                 Shine      87   12.0     Rheinhessen                  NaN   \n",
              "\n",
              "            region_2         taster_name taster_twitter_handle  \\\n",
              "1                NaN          Roger Voss            @vossroger   \n",
              "2  Willamette Valley        Paul Gregutt           @paulgwine    \n",
              "3                NaN  Alexander Peartree                   NaN   \n",
              "5                NaN   Michael Schachner           @wineschach   \n",
              "8                NaN  Anna Lee C. Iijima                   NaN   \n",
              "\n",
              "                                               title             variety  \\\n",
              "1      Quinta dos Avidagos 2011 Avidagos Red (Douro)      Portuguese Red   \n",
              "2      Rainstorm 2013 Pinot Gris (Willamette Valley)          Pinot Gris   \n",
              "3  St. Julian 2013 Reserve Late Harvest Riesling ...            Riesling   \n",
              "5  Tandem 2011 Ars In Vitro Tempranillo-Merlot (N...  Tempranillo-Merlot   \n",
              "8  Heinz Eifel 2013 Shine Gewürztraminer (Rheinhe...      Gewürztraminer   \n",
              "\n",
              "                winery  \n",
              "1  Quinta dos Avidagos  \n",
              "2            Rainstorm  \n",
              "3           St. Julian  \n",
              "5               Tandem  \n",
              "8          Heinz Eifel  "
            ]
          },
          "execution_count": 126,
          "metadata": {},
          "output_type": "execute_result"
        }
      ],
      "source": [
        " # here your code\n",
        " samples_reviews =  reviews.loc[[1,2,3, 5, 8]]\n",
        "\n",
        " samples_reviews "
      ]
    },
    {
      "cell_type": "markdown",
      "metadata": {
        "id": "QI3hZF8nwvHx"
      },
      "source": [
        "## 6.\n",
        "\n",
        "Create a variable `df` containing the `country`, `province`, `region_1`, and `region_2` columns of the records with the index labels `0`, `1`, `10`, and `100`. In other words, generate the following DataFrame:\n",
        "\n",
        "![](https://i.imgur.com/FUCGiKP.png)"
      ]
    },
    {
      "cell_type": "code",
      "execution_count": 129,
      "metadata": {
        "id": "gEuPjgdIwv7_"
      },
      "outputs": [
        {
          "data": {
            "text/html": [
              "<div>\n",
              "<style scoped>\n",
              "    .dataframe tbody tr th:only-of-type {\n",
              "        vertical-align: middle;\n",
              "    }\n",
              "\n",
              "    .dataframe tbody tr th {\n",
              "        vertical-align: top;\n",
              "    }\n",
              "\n",
              "    .dataframe thead th {\n",
              "        text-align: right;\n",
              "    }\n",
              "</style>\n",
              "<table border=\"1\" class=\"dataframe\">\n",
              "  <thead>\n",
              "    <tr style=\"text-align: right;\">\n",
              "      <th></th>\n",
              "      <th>country</th>\n",
              "      <th>province</th>\n",
              "      <th>region_1</th>\n",
              "      <th>region_2</th>\n",
              "    </tr>\n",
              "  </thead>\n",
              "  <tbody>\n",
              "    <tr>\n",
              "      <th>0</th>\n",
              "      <td>Italy</td>\n",
              "      <td>Sicily &amp; Sardinia</td>\n",
              "      <td>Etna</td>\n",
              "      <td>NaN</td>\n",
              "    </tr>\n",
              "    <tr>\n",
              "      <th>1</th>\n",
              "      <td>Portugal</td>\n",
              "      <td>Douro</td>\n",
              "      <td>NaN</td>\n",
              "      <td>NaN</td>\n",
              "    </tr>\n",
              "    <tr>\n",
              "      <th>10</th>\n",
              "      <td>US</td>\n",
              "      <td>California</td>\n",
              "      <td>Napa Valley</td>\n",
              "      <td>Napa</td>\n",
              "    </tr>\n",
              "    <tr>\n",
              "      <th>100</th>\n",
              "      <td>US</td>\n",
              "      <td>New York</td>\n",
              "      <td>Finger Lakes</td>\n",
              "      <td>Finger Lakes</td>\n",
              "    </tr>\n",
              "  </tbody>\n",
              "</table>\n",
              "</div>"
            ],
            "text/plain": [
              "      country           province      region_1      region_2\n",
              "0       Italy  Sicily & Sardinia          Etna           NaN\n",
              "1    Portugal              Douro           NaN           NaN\n",
              "10         US         California   Napa Valley          Napa\n",
              "100        US           New York  Finger Lakes  Finger Lakes"
            ]
          },
          "execution_count": 129,
          "metadata": {},
          "output_type": "execute_result"
        }
      ],
      "source": [
        "# here your code\n",
        "df = reviews.loc[[0,1,10,100], ['country', 'province', 'region_1', 'region_2']]\n",
        "df"
      ]
    },
    {
      "cell_type": "markdown",
      "metadata": {
        "id": "RnZY8p9-w62l"
      },
      "source": [
        "## 7.\n",
        "\n",
        "Create a variable `df` containing the `country` and `variety` columns of the first 100 records.\n",
        "\n",
        "Hint: you may use `loc` or `iloc`. When working on the answer this question and the several of the ones that follow, keep the following \"gotcha\" described in the tutorial:\n",
        "\n",
        "> `iloc` uses the Python stdlib indexing scheme, where the first element of the range is included and the last one excluded.\n",
        "`loc`, meanwhile, indexes inclusively.\n",
        "\n",
        "> This is particularly confusing when the DataFrame index is a simple numerical list, e.g. `0,...,1000`. In this case `df.iloc[0:1000]` will return 1000 entries, while `df.loc[0:1000]` return 1001 of them! To get 1000 elements using `loc`, you will need to go one lower and ask for `df.iloc[0:999]`."
      ]
    },
    {
      "cell_type": "code",
      "execution_count": 146,
      "metadata": {
        "id": "16sKuYxGw7bl"
      },
      "outputs": [
        {
          "data": {
            "text/html": [
              "<div>\n",
              "<style scoped>\n",
              "    .dataframe tbody tr th:only-of-type {\n",
              "        vertical-align: middle;\n",
              "    }\n",
              "\n",
              "    .dataframe tbody tr th {\n",
              "        vertical-align: top;\n",
              "    }\n",
              "\n",
              "    .dataframe thead th {\n",
              "        text-align: right;\n",
              "    }\n",
              "</style>\n",
              "<table border=\"1\" class=\"dataframe\">\n",
              "  <thead>\n",
              "    <tr style=\"text-align: right;\">\n",
              "      <th></th>\n",
              "      <th>country</th>\n",
              "      <th>variety</th>\n",
              "    </tr>\n",
              "  </thead>\n",
              "  <tbody>\n",
              "    <tr>\n",
              "      <th>0</th>\n",
              "      <td>Italy</td>\n",
              "      <td>White Blend</td>\n",
              "    </tr>\n",
              "    <tr>\n",
              "      <th>1</th>\n",
              "      <td>Portugal</td>\n",
              "      <td>Portuguese Red</td>\n",
              "    </tr>\n",
              "    <tr>\n",
              "      <th>2</th>\n",
              "      <td>US</td>\n",
              "      <td>Pinot Gris</td>\n",
              "    </tr>\n",
              "    <tr>\n",
              "      <th>3</th>\n",
              "      <td>US</td>\n",
              "      <td>Riesling</td>\n",
              "    </tr>\n",
              "    <tr>\n",
              "      <th>4</th>\n",
              "      <td>US</td>\n",
              "      <td>Pinot Noir</td>\n",
              "    </tr>\n",
              "    <tr>\n",
              "      <th>...</th>\n",
              "      <td>...</td>\n",
              "      <td>...</td>\n",
              "    </tr>\n",
              "    <tr>\n",
              "      <th>95</th>\n",
              "      <td>France</td>\n",
              "      <td>Gamay</td>\n",
              "    </tr>\n",
              "    <tr>\n",
              "      <th>96</th>\n",
              "      <td>France</td>\n",
              "      <td>Gamay</td>\n",
              "    </tr>\n",
              "    <tr>\n",
              "      <th>97</th>\n",
              "      <td>US</td>\n",
              "      <td>Riesling</td>\n",
              "    </tr>\n",
              "    <tr>\n",
              "      <th>98</th>\n",
              "      <td>Italy</td>\n",
              "      <td>Sangiovese</td>\n",
              "    </tr>\n",
              "    <tr>\n",
              "      <th>99</th>\n",
              "      <td>US</td>\n",
              "      <td>Bordeaux-style Red Blend</td>\n",
              "    </tr>\n",
              "  </tbody>\n",
              "</table>\n",
              "<p>100 rows × 2 columns</p>\n",
              "</div>"
            ],
            "text/plain": [
              "     country                   variety\n",
              "0      Italy               White Blend\n",
              "1   Portugal            Portuguese Red\n",
              "2         US                Pinot Gris\n",
              "3         US                  Riesling\n",
              "4         US                Pinot Noir\n",
              "..       ...                       ...\n",
              "95    France                     Gamay\n",
              "96    France                     Gamay\n",
              "97        US                  Riesling\n",
              "98     Italy                Sangiovese\n",
              "99        US  Bordeaux-style Red Blend\n",
              "\n",
              "[100 rows x 2 columns]"
            ]
          },
          "execution_count": 146,
          "metadata": {},
          "output_type": "execute_result"
        }
      ],
      "source": [
        " # here your code\n",
        " df = reviews.loc[:99,['country','variety']]\n",
        " df"
      ]
    },
    {
      "cell_type": "markdown",
      "metadata": {
        "id": "nrzmEiqXxG-r"
      },
      "source": [
        "## 8.\n",
        "\n",
        "Create a DataFrame `italian_wines` containing reviews of wines made in `Italy`. Hint: `reviews.country` equals what?"
      ]
    },
    {
      "cell_type": "code",
      "execution_count": null,
      "metadata": {
        "id": "pJvVbCtgxHpL"
      },
      "outputs": [
        {
          "data": {
            "text/html": [
              "<div>\n",
              "<style scoped>\n",
              "    .dataframe tbody tr th:only-of-type {\n",
              "        vertical-align: middle;\n",
              "    }\n",
              "\n",
              "    .dataframe tbody tr th {\n",
              "        vertical-align: top;\n",
              "    }\n",
              "\n",
              "    .dataframe thead th {\n",
              "        text-align: right;\n",
              "    }\n",
              "</style>\n",
              "<table border=\"1\" class=\"dataframe\">\n",
              "  <thead>\n",
              "    <tr style=\"text-align: right;\">\n",
              "      <th></th>\n",
              "      <th>country</th>\n",
              "      <th>description</th>\n",
              "      <th>designation</th>\n",
              "      <th>points</th>\n",
              "      <th>price</th>\n",
              "      <th>province</th>\n",
              "      <th>region_1</th>\n",
              "      <th>region_2</th>\n",
              "      <th>taster_name</th>\n",
              "      <th>taster_twitter_handle</th>\n",
              "      <th>title</th>\n",
              "      <th>variety</th>\n",
              "      <th>winery</th>\n",
              "    </tr>\n",
              "  </thead>\n",
              "  <tbody>\n",
              "    <tr>\n",
              "      <th>0</th>\n",
              "      <td>Italy</td>\n",
              "      <td>Aromas include tropical fruit, broom, brimston...</td>\n",
              "      <td>Vulkà Bianco</td>\n",
              "      <td>87</td>\n",
              "      <td>NaN</td>\n",
              "      <td>Sicily &amp; Sardinia</td>\n",
              "      <td>Etna</td>\n",
              "      <td>NaN</td>\n",
              "      <td>Kerin O’Keefe</td>\n",
              "      <td>@kerinokeefe</td>\n",
              "      <td>Nicosia 2013 Vulkà Bianco  (Etna)</td>\n",
              "      <td>White Blend</td>\n",
              "      <td>Nicosia</td>\n",
              "    </tr>\n",
              "    <tr>\n",
              "      <th>6</th>\n",
              "      <td>Italy</td>\n",
              "      <td>Here's a bright, informal red that opens with ...</td>\n",
              "      <td>Belsito</td>\n",
              "      <td>87</td>\n",
              "      <td>16.0</td>\n",
              "      <td>Sicily &amp; Sardinia</td>\n",
              "      <td>Vittoria</td>\n",
              "      <td>NaN</td>\n",
              "      <td>Kerin O’Keefe</td>\n",
              "      <td>@kerinokeefe</td>\n",
              "      <td>Terre di Giurfo 2013 Belsito Frappato (Vittoria)</td>\n",
              "      <td>Frappato</td>\n",
              "      <td>Terre di Giurfo</td>\n",
              "    </tr>\n",
              "    <tr>\n",
              "      <th>13</th>\n",
              "      <td>Italy</td>\n",
              "      <td>This is dominated by oak and oak-driven aromas...</td>\n",
              "      <td>Rosso</td>\n",
              "      <td>87</td>\n",
              "      <td>NaN</td>\n",
              "      <td>Sicily &amp; Sardinia</td>\n",
              "      <td>Etna</td>\n",
              "      <td>NaN</td>\n",
              "      <td>Kerin O’Keefe</td>\n",
              "      <td>@kerinokeefe</td>\n",
              "      <td>Masseria Setteporte 2012 Rosso  (Etna)</td>\n",
              "      <td>Nerello Mascalese</td>\n",
              "      <td>Masseria Setteporte</td>\n",
              "    </tr>\n",
              "    <tr>\n",
              "      <th>22</th>\n",
              "      <td>Italy</td>\n",
              "      <td>Delicate aromas recall white flower and citrus...</td>\n",
              "      <td>Ficiligno</td>\n",
              "      <td>87</td>\n",
              "      <td>19.0</td>\n",
              "      <td>Sicily &amp; Sardinia</td>\n",
              "      <td>Sicilia</td>\n",
              "      <td>NaN</td>\n",
              "      <td>Kerin O’Keefe</td>\n",
              "      <td>@kerinokeefe</td>\n",
              "      <td>Baglio di Pianetto 2007 Ficiligno White (Sicilia)</td>\n",
              "      <td>White Blend</td>\n",
              "      <td>Baglio di Pianetto</td>\n",
              "    </tr>\n",
              "    <tr>\n",
              "      <th>24</th>\n",
              "      <td>Italy</td>\n",
              "      <td>Aromas of prune, blackcurrant, toast and oak c...</td>\n",
              "      <td>Aynat</td>\n",
              "      <td>87</td>\n",
              "      <td>35.0</td>\n",
              "      <td>Sicily &amp; Sardinia</td>\n",
              "      <td>Sicilia</td>\n",
              "      <td>NaN</td>\n",
              "      <td>Kerin O’Keefe</td>\n",
              "      <td>@kerinokeefe</td>\n",
              "      <td>Canicattì 2009 Aynat Nero d'Avola (Sicilia)</td>\n",
              "      <td>Nero d'Avola</td>\n",
              "      <td>Canicattì</td>\n",
              "    </tr>\n",
              "    <tr>\n",
              "      <th>...</th>\n",
              "      <td>...</td>\n",
              "      <td>...</td>\n",
              "      <td>...</td>\n",
              "      <td>...</td>\n",
              "      <td>...</td>\n",
              "      <td>...</td>\n",
              "      <td>...</td>\n",
              "      <td>...</td>\n",
              "      <td>...</td>\n",
              "      <td>...</td>\n",
              "      <td>...</td>\n",
              "      <td>...</td>\n",
              "      <td>...</td>\n",
              "    </tr>\n",
              "    <tr>\n",
              "      <th>129929</th>\n",
              "      <td>Italy</td>\n",
              "      <td>This luminous sparkler has a sweet, fruit-forw...</td>\n",
              "      <td>NaN</td>\n",
              "      <td>91</td>\n",
              "      <td>38.0</td>\n",
              "      <td>Veneto</td>\n",
              "      <td>Prosecco Superiore di Cartizze</td>\n",
              "      <td>NaN</td>\n",
              "      <td>NaN</td>\n",
              "      <td>NaN</td>\n",
              "      <td>Col Vetoraz Spumanti NV  Prosecco Superiore di...</td>\n",
              "      <td>Prosecco</td>\n",
              "      <td>Col Vetoraz Spumanti</td>\n",
              "    </tr>\n",
              "    <tr>\n",
              "      <th>129943</th>\n",
              "      <td>Italy</td>\n",
              "      <td>A blend of Nero d'Avola and Syrah, this convey...</td>\n",
              "      <td>Adènzia</td>\n",
              "      <td>90</td>\n",
              "      <td>29.0</td>\n",
              "      <td>Sicily &amp; Sardinia</td>\n",
              "      <td>Sicilia</td>\n",
              "      <td>NaN</td>\n",
              "      <td>Kerin O’Keefe</td>\n",
              "      <td>@kerinokeefe</td>\n",
              "      <td>Baglio del Cristo di Campobello 2012 Adènzia R...</td>\n",
              "      <td>Red Blend</td>\n",
              "      <td>Baglio del Cristo di Campobello</td>\n",
              "    </tr>\n",
              "    <tr>\n",
              "      <th>129947</th>\n",
              "      <td>Italy</td>\n",
              "      <td>A blend of 65% Cabernet Sauvignon, 30% Merlot ...</td>\n",
              "      <td>Symposio</td>\n",
              "      <td>90</td>\n",
              "      <td>20.0</td>\n",
              "      <td>Sicily &amp; Sardinia</td>\n",
              "      <td>Terre Siciliane</td>\n",
              "      <td>NaN</td>\n",
              "      <td>Kerin O’Keefe</td>\n",
              "      <td>@kerinokeefe</td>\n",
              "      <td>Feudo Principi di Butera 2012 Symposio Red (Te...</td>\n",
              "      <td>Red Blend</td>\n",
              "      <td>Feudo Principi di Butera</td>\n",
              "    </tr>\n",
              "    <tr>\n",
              "      <th>129961</th>\n",
              "      <td>Italy</td>\n",
              "      <td>Intense aromas of wild cherry, baking spice, t...</td>\n",
              "      <td>NaN</td>\n",
              "      <td>90</td>\n",
              "      <td>30.0</td>\n",
              "      <td>Sicily &amp; Sardinia</td>\n",
              "      <td>Sicilia</td>\n",
              "      <td>NaN</td>\n",
              "      <td>Kerin O’Keefe</td>\n",
              "      <td>@kerinokeefe</td>\n",
              "      <td>COS 2013 Frappato (Sicilia)</td>\n",
              "      <td>Frappato</td>\n",
              "      <td>COS</td>\n",
              "    </tr>\n",
              "    <tr>\n",
              "      <th>129962</th>\n",
              "      <td>Italy</td>\n",
              "      <td>Blackberry, cassis, grilled herb and toasted a...</td>\n",
              "      <td>Sàgana Tenuta San Giacomo</td>\n",
              "      <td>90</td>\n",
              "      <td>40.0</td>\n",
              "      <td>Sicily &amp; Sardinia</td>\n",
              "      <td>Sicilia</td>\n",
              "      <td>NaN</td>\n",
              "      <td>Kerin O’Keefe</td>\n",
              "      <td>@kerinokeefe</td>\n",
              "      <td>Cusumano 2012 Sàgana Tenuta San Giacomo Nero d...</td>\n",
              "      <td>Nero d'Avola</td>\n",
              "      <td>Cusumano</td>\n",
              "    </tr>\n",
              "  </tbody>\n",
              "</table>\n",
              "<p>19540 rows × 13 columns</p>\n",
              "</div>"
            ],
            "text/plain": [
              "       country                                        description  \\\n",
              "0        Italy  Aromas include tropical fruit, broom, brimston...   \n",
              "6        Italy  Here's a bright, informal red that opens with ...   \n",
              "13       Italy  This is dominated by oak and oak-driven aromas...   \n",
              "22       Italy  Delicate aromas recall white flower and citrus...   \n",
              "24       Italy  Aromas of prune, blackcurrant, toast and oak c...   \n",
              "...        ...                                                ...   \n",
              "129929   Italy  This luminous sparkler has a sweet, fruit-forw...   \n",
              "129943   Italy  A blend of Nero d'Avola and Syrah, this convey...   \n",
              "129947   Italy  A blend of 65% Cabernet Sauvignon, 30% Merlot ...   \n",
              "129961   Italy  Intense aromas of wild cherry, baking spice, t...   \n",
              "129962   Italy  Blackberry, cassis, grilled herb and toasted a...   \n",
              "\n",
              "                      designation  points  price           province  \\\n",
              "0                    Vulkà Bianco      87    NaN  Sicily & Sardinia   \n",
              "6                         Belsito      87   16.0  Sicily & Sardinia   \n",
              "13                          Rosso      87    NaN  Sicily & Sardinia   \n",
              "22                      Ficiligno      87   19.0  Sicily & Sardinia   \n",
              "24                          Aynat      87   35.0  Sicily & Sardinia   \n",
              "...                           ...     ...    ...                ...   \n",
              "129929                        NaN      91   38.0             Veneto   \n",
              "129943                    Adènzia      90   29.0  Sicily & Sardinia   \n",
              "129947                   Symposio      90   20.0  Sicily & Sardinia   \n",
              "129961                        NaN      90   30.0  Sicily & Sardinia   \n",
              "129962  Sàgana Tenuta San Giacomo      90   40.0  Sicily & Sardinia   \n",
              "\n",
              "                              region_1 region_2    taster_name  \\\n",
              "0                                 Etna      NaN  Kerin O’Keefe   \n",
              "6                             Vittoria      NaN  Kerin O’Keefe   \n",
              "13                                Etna      NaN  Kerin O’Keefe   \n",
              "22                             Sicilia      NaN  Kerin O’Keefe   \n",
              "24                             Sicilia      NaN  Kerin O’Keefe   \n",
              "...                                ...      ...            ...   \n",
              "129929  Prosecco Superiore di Cartizze      NaN            NaN   \n",
              "129943                         Sicilia      NaN  Kerin O’Keefe   \n",
              "129947                 Terre Siciliane      NaN  Kerin O’Keefe   \n",
              "129961                         Sicilia      NaN  Kerin O’Keefe   \n",
              "129962                         Sicilia      NaN  Kerin O’Keefe   \n",
              "\n",
              "       taster_twitter_handle  \\\n",
              "0               @kerinokeefe   \n",
              "6               @kerinokeefe   \n",
              "13              @kerinokeefe   \n",
              "22              @kerinokeefe   \n",
              "24              @kerinokeefe   \n",
              "...                      ...   \n",
              "129929                   NaN   \n",
              "129943          @kerinokeefe   \n",
              "129947          @kerinokeefe   \n",
              "129961          @kerinokeefe   \n",
              "129962          @kerinokeefe   \n",
              "\n",
              "                                                    title            variety  \\\n",
              "0                       Nicosia 2013 Vulkà Bianco  (Etna)        White Blend   \n",
              "6        Terre di Giurfo 2013 Belsito Frappato (Vittoria)           Frappato   \n",
              "13                 Masseria Setteporte 2012 Rosso  (Etna)  Nerello Mascalese   \n",
              "22      Baglio di Pianetto 2007 Ficiligno White (Sicilia)        White Blend   \n",
              "24            Canicattì 2009 Aynat Nero d'Avola (Sicilia)       Nero d'Avola   \n",
              "...                                                   ...                ...   \n",
              "129929  Col Vetoraz Spumanti NV  Prosecco Superiore di...           Prosecco   \n",
              "129943  Baglio del Cristo di Campobello 2012 Adènzia R...          Red Blend   \n",
              "129947  Feudo Principi di Butera 2012 Symposio Red (Te...          Red Blend   \n",
              "129961                        COS 2013 Frappato (Sicilia)           Frappato   \n",
              "129962  Cusumano 2012 Sàgana Tenuta San Giacomo Nero d...       Nero d'Avola   \n",
              "\n",
              "                                 winery  \n",
              "0                               Nicosia  \n",
              "6                       Terre di Giurfo  \n",
              "13                  Masseria Setteporte  \n",
              "22                   Baglio di Pianetto  \n",
              "24                            Canicattì  \n",
              "...                                 ...  \n",
              "129929             Col Vetoraz Spumanti  \n",
              "129943  Baglio del Cristo di Campobello  \n",
              "129947         Feudo Principi di Butera  \n",
              "129961                              COS  \n",
              "129962                         Cusumano  \n",
              "\n",
              "[19540 rows x 13 columns]"
            ]
          },
          "execution_count": 191,
          "metadata": {},
          "output_type": "execute_result"
        }
      ],
      "source": [
        "# here your code\n",
        "italian_wines = reviews[(reviews.country =='Italy') ]\n",
        "italian_wines"
      ]
    },
    {
      "cell_type": "markdown",
      "metadata": {
        "id": "nYqwI9SKxTED"
      },
      "source": [
        "## 9.\n",
        "\n",
        "Create a DataFrame `top_oceania_wines` containing all reviews with at least 95 points (out of 100) for wines from Australia or New Zealand."
      ]
    },
    {
      "cell_type": "code",
      "execution_count": 194,
      "metadata": {
        "id": "TeGwZcKMxTpm"
      },
      "outputs": [
        {
          "data": {
            "text/html": [
              "<div>\n",
              "<style scoped>\n",
              "    .dataframe tbody tr th:only-of-type {\n",
              "        vertical-align: middle;\n",
              "    }\n",
              "\n",
              "    .dataframe tbody tr th {\n",
              "        vertical-align: top;\n",
              "    }\n",
              "\n",
              "    .dataframe thead th {\n",
              "        text-align: right;\n",
              "    }\n",
              "</style>\n",
              "<table border=\"1\" class=\"dataframe\">\n",
              "  <thead>\n",
              "    <tr style=\"text-align: right;\">\n",
              "      <th></th>\n",
              "      <th>country</th>\n",
              "      <th>description</th>\n",
              "      <th>designation</th>\n",
              "      <th>points</th>\n",
              "      <th>price</th>\n",
              "      <th>province</th>\n",
              "      <th>region_1</th>\n",
              "      <th>region_2</th>\n",
              "      <th>taster_name</th>\n",
              "      <th>taster_twitter_handle</th>\n",
              "      <th>title</th>\n",
              "      <th>variety</th>\n",
              "      <th>winery</th>\n",
              "    </tr>\n",
              "  </thead>\n",
              "  <tbody>\n",
              "    <tr>\n",
              "      <th>345</th>\n",
              "      <td>Australia</td>\n",
              "      <td>This wine contains some material over 100 year...</td>\n",
              "      <td>Rare</td>\n",
              "      <td>100</td>\n",
              "      <td>350.0</td>\n",
              "      <td>Victoria</td>\n",
              "      <td>Rutherglen</td>\n",
              "      <td>NaN</td>\n",
              "      <td>Joe Czerwinski</td>\n",
              "      <td>@JoeCz</td>\n",
              "      <td>Chambers Rosewood Vineyards NV Rare Muscat (Ru...</td>\n",
              "      <td>Muscat</td>\n",
              "      <td>Chambers Rosewood Vineyards</td>\n",
              "    </tr>\n",
              "    <tr>\n",
              "      <th>346</th>\n",
              "      <td>Australia</td>\n",
              "      <td>This deep brown wine smells like a damp, mossy...</td>\n",
              "      <td>Rare</td>\n",
              "      <td>98</td>\n",
              "      <td>350.0</td>\n",
              "      <td>Victoria</td>\n",
              "      <td>Rutherglen</td>\n",
              "      <td>NaN</td>\n",
              "      <td>Joe Czerwinski</td>\n",
              "      <td>@JoeCz</td>\n",
              "      <td>Chambers Rosewood Vineyards NV Rare Muscadelle...</td>\n",
              "      <td>Muscadelle</td>\n",
              "      <td>Chambers Rosewood Vineyards</td>\n",
              "    </tr>\n",
              "    <tr>\n",
              "      <th>348</th>\n",
              "      <td>Australia</td>\n",
              "      <td>Deep mahogany. Dried fig and black tea on the ...</td>\n",
              "      <td>Grand</td>\n",
              "      <td>97</td>\n",
              "      <td>100.0</td>\n",
              "      <td>Victoria</td>\n",
              "      <td>Rutherglen</td>\n",
              "      <td>NaN</td>\n",
              "      <td>Joe Czerwinski</td>\n",
              "      <td>@JoeCz</td>\n",
              "      <td>Chambers Rosewood Vineyards NV Grand Muscat (R...</td>\n",
              "      <td>Muscat</td>\n",
              "      <td>Chambers Rosewood Vineyards</td>\n",
              "    </tr>\n",
              "    <tr>\n",
              "      <th>349</th>\n",
              "      <td>Australia</td>\n",
              "      <td>RunRig is always complex, and the 2012 doesn't...</td>\n",
              "      <td>RunRig</td>\n",
              "      <td>97</td>\n",
              "      <td>225.0</td>\n",
              "      <td>South Australia</td>\n",
              "      <td>Barossa</td>\n",
              "      <td>NaN</td>\n",
              "      <td>Joe Czerwinski</td>\n",
              "      <td>@JoeCz</td>\n",
              "      <td>Torbreck 2012 RunRig Shiraz-Viognier (Barossa)</td>\n",
              "      <td>Shiraz-Viognier</td>\n",
              "      <td>Torbreck</td>\n",
              "    </tr>\n",
              "    <tr>\n",
              "      <th>356</th>\n",
              "      <td>Australia</td>\n",
              "      <td>Dusty, firm, powerful: just a few apt descript...</td>\n",
              "      <td>Georgia's Paddock</td>\n",
              "      <td>95</td>\n",
              "      <td>85.0</td>\n",
              "      <td>Victoria</td>\n",
              "      <td>Heathcote</td>\n",
              "      <td>NaN</td>\n",
              "      <td>Joe Czerwinski</td>\n",
              "      <td>@JoeCz</td>\n",
              "      <td>Jasper Hill 2013 Georgia's Paddock Shiraz (Hea...</td>\n",
              "      <td>Shiraz</td>\n",
              "      <td>Jasper Hill</td>\n",
              "    </tr>\n",
              "    <tr>\n",
              "      <th>360</th>\n",
              "      <td>Australia</td>\n",
              "      <td>Bacon and tapenade elements merge easily on th...</td>\n",
              "      <td>Descendant</td>\n",
              "      <td>95</td>\n",
              "      <td>125.0</td>\n",
              "      <td>South Australia</td>\n",
              "      <td>Barossa Valley</td>\n",
              "      <td>NaN</td>\n",
              "      <td>Joe Czerwinski</td>\n",
              "      <td>@JoeCz</td>\n",
              "      <td>Torbreck 2012 Descendant Shiraz-Viognier (Baro...</td>\n",
              "      <td>Shiraz-Viognier</td>\n",
              "      <td>Torbreck</td>\n",
              "    </tr>\n",
              "    <tr>\n",
              "      <th>365</th>\n",
              "      <td>Australia</td>\n",
              "      <td>The Taylor family selected Clare Valley for it...</td>\n",
              "      <td>St. Andrews Single Vineyard Release</td>\n",
              "      <td>95</td>\n",
              "      <td>60.0</td>\n",
              "      <td>South Australia</td>\n",
              "      <td>Clare Valley</td>\n",
              "      <td>NaN</td>\n",
              "      <td>Joe Czerwinski</td>\n",
              "      <td>@JoeCz</td>\n",
              "      <td>Wakefield 2013 St. Andrews Single Vineyard Rel...</td>\n",
              "      <td>Shiraz</td>\n",
              "      <td>Wakefield</td>\n",
              "    </tr>\n",
              "    <tr>\n",
              "      <th>14354</th>\n",
              "      <td>Australia</td>\n",
              "      <td>This wine's concentrated dark fruit shows in t...</td>\n",
              "      <td>Old Vine</td>\n",
              "      <td>95</td>\n",
              "      <td>60.0</td>\n",
              "      <td>South Australia</td>\n",
              "      <td>Barossa Valley</td>\n",
              "      <td>NaN</td>\n",
              "      <td>Joe Czerwinski</td>\n",
              "      <td>@JoeCz</td>\n",
              "      <td>Kaesler 2006 Old Vine Shiraz (Barossa Valley)</td>\n",
              "      <td>Shiraz</td>\n",
              "      <td>Kaesler</td>\n",
              "    </tr>\n",
              "    <tr>\n",
              "      <th>16538</th>\n",
              "      <td>Australia</td>\n",
              "      <td>Rich, dense and intense, this is a big, muscul...</td>\n",
              "      <td>The Family Tree</td>\n",
              "      <td>95</td>\n",
              "      <td>65.0</td>\n",
              "      <td>South Australia</td>\n",
              "      <td>Barossa Valley</td>\n",
              "      <td>NaN</td>\n",
              "      <td>Joe Czerwinski</td>\n",
              "      <td>@JoeCz</td>\n",
              "      <td>Lambert 2013 The Family Tree Shiraz (Barossa V...</td>\n",
              "      <td>Shiraz</td>\n",
              "      <td>Lambert</td>\n",
              "    </tr>\n",
              "    <tr>\n",
              "      <th>28573</th>\n",
              "      <td>Australia</td>\n",
              "      <td>Astralis has become one of Australia's top col...</td>\n",
              "      <td>Astralis</td>\n",
              "      <td>95</td>\n",
              "      <td>350.0</td>\n",
              "      <td>South Australia</td>\n",
              "      <td>Clarendon</td>\n",
              "      <td>NaN</td>\n",
              "      <td>Joe Czerwinski</td>\n",
              "      <td>@JoeCz</td>\n",
              "      <td>Clarendon Hills 2005 Astralis Syrah (Clarendon)</td>\n",
              "      <td>Syrah</td>\n",
              "      <td>Clarendon Hills</td>\n",
              "    </tr>\n",
              "    <tr>\n",
              "      <th>34502</th>\n",
              "      <td>Australia</td>\n",
              "      <td>This prodigious wine showcases Barossa's abili...</td>\n",
              "      <td>The Relic</td>\n",
              "      <td>98</td>\n",
              "      <td>135.0</td>\n",
              "      <td>South Australia</td>\n",
              "      <td>Barossa Valley</td>\n",
              "      <td>NaN</td>\n",
              "      <td>Joe Czerwinski</td>\n",
              "      <td>@JoeCz</td>\n",
              "      <td>Standish 2006 The Relic Shiraz (Barossa Valley)</td>\n",
              "      <td>Shiraz</td>\n",
              "      <td>Standish</td>\n",
              "    </tr>\n",
              "    <tr>\n",
              "      <th>34506</th>\n",
              "      <td>Australia</td>\n",
              "      <td>If Standish's Relic is the feminine side of Sh...</td>\n",
              "      <td>The Standish Single Vineyard</td>\n",
              "      <td>96</td>\n",
              "      <td>135.0</td>\n",
              "      <td>South Australia</td>\n",
              "      <td>Barossa Valley</td>\n",
              "      <td>NaN</td>\n",
              "      <td>Joe Czerwinski</td>\n",
              "      <td>@JoeCz</td>\n",
              "      <td>Standish 2005 The Standish Single Vineyard Shi...</td>\n",
              "      <td>Shiraz</td>\n",
              "      <td>Standish</td>\n",
              "    </tr>\n",
              "    <tr>\n",
              "      <th>38988</th>\n",
              "      <td>Australia</td>\n",
              "      <td>Penfolds Bin 707 has leapt in quality over the...</td>\n",
              "      <td>Bin 707</td>\n",
              "      <td>95</td>\n",
              "      <td>200.0</td>\n",
              "      <td>South Australia</td>\n",
              "      <td>South Australia</td>\n",
              "      <td>NaN</td>\n",
              "      <td>Joe Czerwinski</td>\n",
              "      <td>@JoeCz</td>\n",
              "      <td>Penfolds 2009 Bin 707 Cabernet Sauvignon (Sout...</td>\n",
              "      <td>Cabernet Sauvignon</td>\n",
              "      <td>Penfolds</td>\n",
              "    </tr>\n",
              "    <tr>\n",
              "      <th>39059</th>\n",
              "      <td>Australia</td>\n",
              "      <td>The Taylor family selected Clare Valley for it...</td>\n",
              "      <td>St. Andrews Single Vineyard Release</td>\n",
              "      <td>95</td>\n",
              "      <td>60.0</td>\n",
              "      <td>South Australia</td>\n",
              "      <td>Clare Valley</td>\n",
              "      <td>NaN</td>\n",
              "      <td>Joe Czerwinski</td>\n",
              "      <td>@JoeCz</td>\n",
              "      <td>Wakefield 2013 St. Andrews Single Vineyard Rel...</td>\n",
              "      <td>Shiraz</td>\n",
              "      <td>Wakefield</td>\n",
              "    </tr>\n",
              "    <tr>\n",
              "      <th>39961</th>\n",
              "      <td>Australia</td>\n",
              "      <td>As unevolved as they are, the dense and multil...</td>\n",
              "      <td>Grange</td>\n",
              "      <td>96</td>\n",
              "      <td>185.0</td>\n",
              "      <td>South Australia</td>\n",
              "      <td>South Australia</td>\n",
              "      <td>NaN</td>\n",
              "      <td>NaN</td>\n",
              "      <td>NaN</td>\n",
              "      <td>Penfolds 1996 Grange Shiraz (South Australia)</td>\n",
              "      <td>Shiraz</td>\n",
              "      <td>Penfolds</td>\n",
              "    </tr>\n",
              "    <tr>\n",
              "      <th>39962</th>\n",
              "      <td>Australia</td>\n",
              "      <td>Seamless luxury from stem to stern, this ‘baby...</td>\n",
              "      <td>RWT</td>\n",
              "      <td>95</td>\n",
              "      <td>70.0</td>\n",
              "      <td>South Australia</td>\n",
              "      <td>Barossa Valley</td>\n",
              "      <td>NaN</td>\n",
              "      <td>NaN</td>\n",
              "      <td>NaN</td>\n",
              "      <td>Penfolds 1998 RWT Shiraz (Barossa Valley)</td>\n",
              "      <td>Shiraz</td>\n",
              "      <td>Penfolds</td>\n",
              "    </tr>\n",
              "    <tr>\n",
              "      <th>45809</th>\n",
              "      <td>Australia</td>\n",
              "      <td>The 2007 Astralis impresses for its combinatio...</td>\n",
              "      <td>Astralis</td>\n",
              "      <td>95</td>\n",
              "      <td>225.0</td>\n",
              "      <td>South Australia</td>\n",
              "      <td>Clarendon</td>\n",
              "      <td>NaN</td>\n",
              "      <td>Joe Czerwinski</td>\n",
              "      <td>@JoeCz</td>\n",
              "      <td>Clarendon Hills 2007 Astralis Syrah (Clarendon)</td>\n",
              "      <td>Syrah</td>\n",
              "      <td>Clarendon Hills</td>\n",
              "    </tr>\n",
              "    <tr>\n",
              "      <th>56953</th>\n",
              "      <td>Australia</td>\n",
              "      <td>This inky, embryonic wine deserves to be cella...</td>\n",
              "      <td>Grange</td>\n",
              "      <td>99</td>\n",
              "      <td>850.0</td>\n",
              "      <td>South Australia</td>\n",
              "      <td>South Australia</td>\n",
              "      <td>NaN</td>\n",
              "      <td>Joe Czerwinski</td>\n",
              "      <td>@JoeCz</td>\n",
              "      <td>Penfolds 2010 Grange Shiraz (South Australia)</td>\n",
              "      <td>Shiraz</td>\n",
              "      <td>Penfolds</td>\n",
              "    </tr>\n",
              "    <tr>\n",
              "      <th>56956</th>\n",
              "      <td>Australia</td>\n",
              "      <td>You may have to scour the country to secure so...</td>\n",
              "      <td>Andelmonde</td>\n",
              "      <td>97</td>\n",
              "      <td>95.0</td>\n",
              "      <td>South Australia</td>\n",
              "      <td>Barossa Valley</td>\n",
              "      <td>NaN</td>\n",
              "      <td>Joe Czerwinski</td>\n",
              "      <td>@JoeCz</td>\n",
              "      <td>Standish 2012 Andelmonde Shiraz (Barossa Valley)</td>\n",
              "      <td>Shiraz</td>\n",
              "      <td>Standish</td>\n",
              "    </tr>\n",
              "    <tr>\n",
              "      <th>56957</th>\n",
              "      <td>Australia</td>\n",
              "      <td>Thorn Clarke has taken its Shiraz to a new lev...</td>\n",
              "      <td>Ron Thorn Single Vineyard</td>\n",
              "      <td>96</td>\n",
              "      <td>89.0</td>\n",
              "      <td>South Australia</td>\n",
              "      <td>Barossa</td>\n",
              "      <td>NaN</td>\n",
              "      <td>Joe Czerwinski</td>\n",
              "      <td>@JoeCz</td>\n",
              "      <td>Thorn Clarke 2012 Ron Thorn Single Vineyard Sh...</td>\n",
              "      <td>Shiraz</td>\n",
              "      <td>Thorn Clarke</td>\n",
              "    </tr>\n",
              "    <tr>\n",
              "      <th>56959</th>\n",
              "      <td>Australia</td>\n",
              "      <td>Is this the Yin to Grange's Yang? The wines ar...</td>\n",
              "      <td>Hill of Grace</td>\n",
              "      <td>96</td>\n",
              "      <td>820.0</td>\n",
              "      <td>South Australia</td>\n",
              "      <td>Eden Valley</td>\n",
              "      <td>NaN</td>\n",
              "      <td>Joe Czerwinski</td>\n",
              "      <td>@JoeCz</td>\n",
              "      <td>Henschke 2010 Hill of Grace Shiraz (Eden Valley)</td>\n",
              "      <td>Shiraz</td>\n",
              "      <td>Henschke</td>\n",
              "    </tr>\n",
              "    <tr>\n",
              "      <th>59977</th>\n",
              "      <td>Australia</td>\n",
              "      <td>This is a top example of the classic Australia...</td>\n",
              "      <td>The Peake</td>\n",
              "      <td>96</td>\n",
              "      <td>150.0</td>\n",
              "      <td>South Australia</td>\n",
              "      <td>McLaren Vale</td>\n",
              "      <td>NaN</td>\n",
              "      <td>Joe Czerwinski</td>\n",
              "      <td>@JoeCz</td>\n",
              "      <td>Hickinbotham 2013 The Peake Cabernet-Shiraz (M...</td>\n",
              "      <td>Cabernet-Shiraz</td>\n",
              "      <td>Hickinbotham</td>\n",
              "    </tr>\n",
              "    <tr>\n",
              "      <th>59984</th>\n",
              "      <td>Australia</td>\n",
              "      <td>This is a throwback to those brash, flavor-exu...</td>\n",
              "      <td>One</td>\n",
              "      <td>95</td>\n",
              "      <td>95.0</td>\n",
              "      <td>South Australia</td>\n",
              "      <td>Langhorne Creek</td>\n",
              "      <td>NaN</td>\n",
              "      <td>Joe Czerwinski</td>\n",
              "      <td>@JoeCz</td>\n",
              "      <td>Heartland 2013 One Red (Langhorne Creek)</td>\n",
              "      <td>Red Blend</td>\n",
              "      <td>Heartland</td>\n",
              "    </tr>\n",
              "    <tr>\n",
              "      <th>67096</th>\n",
              "      <td>Australia</td>\n",
              "      <td>Just a tiny serving of this dark nectar will l...</td>\n",
              "      <td>Calliope Rare</td>\n",
              "      <td>98</td>\n",
              "      <td>86.0</td>\n",
              "      <td>Victoria</td>\n",
              "      <td>Rutherglen</td>\n",
              "      <td>NaN</td>\n",
              "      <td>Joe Czerwinski</td>\n",
              "      <td>@JoeCz</td>\n",
              "      <td>R.L. Buller &amp; Son NV Calliope Rare Tokay (Ruth...</td>\n",
              "      <td>Tokay</td>\n",
              "      <td>R.L. Buller &amp; Son</td>\n",
              "    </tr>\n",
              "    <tr>\n",
              "      <th>67101</th>\n",
              "      <td>Australia</td>\n",
              "      <td>This Muscat is the color of dark coffee, with ...</td>\n",
              "      <td>Rare</td>\n",
              "      <td>95</td>\n",
              "      <td>300.0</td>\n",
              "      <td>Victoria</td>\n",
              "      <td>Rutherglen</td>\n",
              "      <td>NaN</td>\n",
              "      <td>Joe Czerwinski</td>\n",
              "      <td>@JoeCz</td>\n",
              "      <td>Chambers Rosewood Vineyards NV Rare Muscat (Ru...</td>\n",
              "      <td>Muscat</td>\n",
              "      <td>Chambers Rosewood Vineyards</td>\n",
              "    </tr>\n",
              "    <tr>\n",
              "      <th>76392</th>\n",
              "      <td>Australia</td>\n",
              "      <td>When the alcohol levels are reined in to appro...</td>\n",
              "      <td>Georgia's Paddock</td>\n",
              "      <td>95</td>\n",
              "      <td>85.0</td>\n",
              "      <td>Victoria</td>\n",
              "      <td>Heathcote</td>\n",
              "      <td>NaN</td>\n",
              "      <td>Joe Czerwinski</td>\n",
              "      <td>@JoeCz</td>\n",
              "      <td>Jasper Hill 2012 Georgia's Paddock Shiraz (Hea...</td>\n",
              "      <td>Shiraz</td>\n",
              "      <td>Jasper Hill</td>\n",
              "    </tr>\n",
              "    <tr>\n",
              "      <th>77028</th>\n",
              "      <td>Australia</td>\n",
              "      <td>This has all the size and weight you've come t...</td>\n",
              "      <td>Grange</td>\n",
              "      <td>98</td>\n",
              "      <td>850.0</td>\n",
              "      <td>South Australia</td>\n",
              "      <td>South Australia</td>\n",
              "      <td>NaN</td>\n",
              "      <td>Joe Czerwinski</td>\n",
              "      <td>@JoeCz</td>\n",
              "      <td>Penfolds 2008 Grange Shiraz (South Australia)</td>\n",
              "      <td>Shiraz</td>\n",
              "      <td>Penfolds</td>\n",
              "    </tr>\n",
              "    <tr>\n",
              "      <th>77036</th>\n",
              "      <td>Australia</td>\n",
              "      <td>RWT (unromantically derived from “Red Wine Tri...</td>\n",
              "      <td>RWT</td>\n",
              "      <td>96</td>\n",
              "      <td>150.0</td>\n",
              "      <td>South Australia</td>\n",
              "      <td>Barossa Valley</td>\n",
              "      <td>NaN</td>\n",
              "      <td>Joe Czerwinski</td>\n",
              "      <td>@JoeCz</td>\n",
              "      <td>Penfolds 2009 RWT Shiraz (Barossa Valley)</td>\n",
              "      <td>Shiraz</td>\n",
              "      <td>Penfolds</td>\n",
              "    </tr>\n",
              "    <tr>\n",
              "      <th>77037</th>\n",
              "      <td>Australia</td>\n",
              "      <td>Winemaker Dave Powell is no longer with Torbre...</td>\n",
              "      <td>RunRig</td>\n",
              "      <td>96</td>\n",
              "      <td>225.0</td>\n",
              "      <td>South Australia</td>\n",
              "      <td>Barossa Valley</td>\n",
              "      <td>NaN</td>\n",
              "      <td>Joe Czerwinski</td>\n",
              "      <td>@JoeCz</td>\n",
              "      <td>Torbreck 2007 RunRig Shiraz-Viognier (Barossa ...</td>\n",
              "      <td>Shiraz-Viognier</td>\n",
              "      <td>Torbreck</td>\n",
              "    </tr>\n",
              "    <tr>\n",
              "      <th>77042</th>\n",
              "      <td>Australia</td>\n",
              "      <td>This is likely the most ageworthy Shiraz winem...</td>\n",
              "      <td>Eligo</td>\n",
              "      <td>95</td>\n",
              "      <td>100.0</td>\n",
              "      <td>South Australia</td>\n",
              "      <td>Barossa</td>\n",
              "      <td>NaN</td>\n",
              "      <td>Joe Czerwinski</td>\n",
              "      <td>@JoeCz</td>\n",
              "      <td>John Duval Wines 2010 Eligo Shiraz (Barossa)</td>\n",
              "      <td>Shiraz</td>\n",
              "      <td>John Duval Wines</td>\n",
              "    </tr>\n",
              "    <tr>\n",
              "      <th>77044</th>\n",
              "      <td>Australia</td>\n",
              "      <td>The fruit for this offering comes from the Gre...</td>\n",
              "      <td>R Reserve</td>\n",
              "      <td>95</td>\n",
              "      <td>105.0</td>\n",
              "      <td>South Australia</td>\n",
              "      <td>Barossa Valley</td>\n",
              "      <td>NaN</td>\n",
              "      <td>Joe Czerwinski</td>\n",
              "      <td>@JoeCz</td>\n",
              "      <td>Kilikanoon 2009 R Reserve Shiraz (Barossa Valley)</td>\n",
              "      <td>Shiraz</td>\n",
              "      <td>Kilikanoon</td>\n",
              "    </tr>\n",
              "    <tr>\n",
              "      <th>77046</th>\n",
              "      <td>Australia</td>\n",
              "      <td>With aromas and flavors that range widely from...</td>\n",
              "      <td>The Factor</td>\n",
              "      <td>95</td>\n",
              "      <td>125.0</td>\n",
              "      <td>South Australia</td>\n",
              "      <td>Barossa Valley</td>\n",
              "      <td>NaN</td>\n",
              "      <td>Joe Czerwinski</td>\n",
              "      <td>@JoeCz</td>\n",
              "      <td>Torbreck 2007 The Factor Shiraz (Barossa Valley)</td>\n",
              "      <td>Shiraz</td>\n",
              "      <td>Torbreck</td>\n",
              "    </tr>\n",
              "    <tr>\n",
              "      <th>83357</th>\n",
              "      <td>Australia</td>\n",
              "      <td>A throwback to the monster Shiraz style of old...</td>\n",
              "      <td>Grange</td>\n",
              "      <td>96</td>\n",
              "      <td>500.0</td>\n",
              "      <td>South Australia</td>\n",
              "      <td>South Australia</td>\n",
              "      <td>NaN</td>\n",
              "      <td>Joe Czerwinski</td>\n",
              "      <td>@JoeCz</td>\n",
              "      <td>Penfolds 2004 Grange Shiraz (South Australia)</td>\n",
              "      <td>Shiraz</td>\n",
              "      <td>Penfolds</td>\n",
              "    </tr>\n",
              "    <tr>\n",
              "      <th>84815</th>\n",
              "      <td>Australia</td>\n",
              "      <td>The Factor is always one of Torbreck's biggest...</td>\n",
              "      <td>The Factor</td>\n",
              "      <td>95</td>\n",
              "      <td>125.0</td>\n",
              "      <td>South Australia</td>\n",
              "      <td>Barossa</td>\n",
              "      <td>NaN</td>\n",
              "      <td>Joe Czerwinski</td>\n",
              "      <td>@JoeCz</td>\n",
              "      <td>Torbreck 2012 The Factor Shiraz (Barossa)</td>\n",
              "      <td>Shiraz</td>\n",
              "      <td>Torbreck</td>\n",
              "    </tr>\n",
              "    <tr>\n",
              "      <th>84816</th>\n",
              "      <td>Australia</td>\n",
              "      <td>Nashwauk is Kaesler's McLaren Vale project, fi...</td>\n",
              "      <td>Beacon</td>\n",
              "      <td>95</td>\n",
              "      <td>145.0</td>\n",
              "      <td>South Australia</td>\n",
              "      <td>McLaren Vale</td>\n",
              "      <td>NaN</td>\n",
              "      <td>Joe Czerwinski</td>\n",
              "      <td>@JoeCz</td>\n",
              "      <td>Nashwauk 2010 Beacon Shiraz (McLaren Vale)</td>\n",
              "      <td>Shiraz</td>\n",
              "      <td>Nashwauk</td>\n",
              "    </tr>\n",
              "    <tr>\n",
              "      <th>87128</th>\n",
              "      <td>Australia</td>\n",
              "      <td>This full-bodied, muscular Shiraz is built for...</td>\n",
              "      <td>Amery Vineyard Block 6</td>\n",
              "      <td>96</td>\n",
              "      <td>120.0</td>\n",
              "      <td>South Australia</td>\n",
              "      <td>McLaren Vale</td>\n",
              "      <td>NaN</td>\n",
              "      <td>Joe Czerwinski</td>\n",
              "      <td>@JoeCz</td>\n",
              "      <td>Kay Brothers 2012 Amery Vineyard Block 6 Shira...</td>\n",
              "      <td>Shiraz</td>\n",
              "      <td>Kay Brothers</td>\n",
              "    </tr>\n",
              "    <tr>\n",
              "      <th>87137</th>\n",
              "      <td>Australia</td>\n",
              "      <td>Perhaps the best young wine I've tasted from M...</td>\n",
              "      <td>NaN</td>\n",
              "      <td>95</td>\n",
              "      <td>84.0</td>\n",
              "      <td>Western Australia</td>\n",
              "      <td>Margaret River</td>\n",
              "      <td>NaN</td>\n",
              "      <td>Joe Czerwinski</td>\n",
              "      <td>@JoeCz</td>\n",
              "      <td>Moss Wood 2011 Cabernet Sauvignon (Margaret Ri...</td>\n",
              "      <td>Cabernet Sauvignon</td>\n",
              "      <td>Moss Wood</td>\n",
              "    </tr>\n",
              "    <tr>\n",
              "      <th>87143</th>\n",
              "      <td>Australia</td>\n",
              "      <td>This is wonderfully complex and aromatic, with...</td>\n",
              "      <td>St. Andrews Single Vineyard Release</td>\n",
              "      <td>95</td>\n",
              "      <td>60.0</td>\n",
              "      <td>South Australia</td>\n",
              "      <td>Clare Valley</td>\n",
              "      <td>NaN</td>\n",
              "      <td>Joe Czerwinski</td>\n",
              "      <td>@JoeCz</td>\n",
              "      <td>Wakefield 2012 St. Andrews Single Vineyard Rel...</td>\n",
              "      <td>Shiraz</td>\n",
              "      <td>Wakefield</td>\n",
              "    </tr>\n",
              "    <tr>\n",
              "      <th>98386</th>\n",
              "      <td>Australia</td>\n",
              "      <td>One of the more approachable of the d'Arenberg...</td>\n",
              "      <td>Little Venice Single Vineyard</td>\n",
              "      <td>95</td>\n",
              "      <td>85.0</td>\n",
              "      <td>South Australia</td>\n",
              "      <td>McLaren Vale</td>\n",
              "      <td>NaN</td>\n",
              "      <td>Joe Czerwinski</td>\n",
              "      <td>@JoeCz</td>\n",
              "      <td>D'Arenberg 2010 Little Venice Single Vineyard ...</td>\n",
              "      <td>Shiraz</td>\n",
              "      <td>D'Arenberg</td>\n",
              "    </tr>\n",
              "    <tr>\n",
              "      <th>99318</th>\n",
              "      <td>Australia</td>\n",
              "      <td>From vines planted in 1912, this has been an i...</td>\n",
              "      <td>Mount Edelstone Vineyard</td>\n",
              "      <td>95</td>\n",
              "      <td>200.0</td>\n",
              "      <td>South Australia</td>\n",
              "      <td>Eden Valley</td>\n",
              "      <td>NaN</td>\n",
              "      <td>Joe Czerwinski</td>\n",
              "      <td>@JoeCz</td>\n",
              "      <td>Henschke 2014 Mount Edelstone Vineyard Shiraz ...</td>\n",
              "      <td>Shiraz</td>\n",
              "      <td>Henschke</td>\n",
              "    </tr>\n",
              "    <tr>\n",
              "      <th>99330</th>\n",
              "      <td>Australia</td>\n",
              "      <td>This Cabernet equivalent to Grange has explode...</td>\n",
              "      <td>Bin 707</td>\n",
              "      <td>95</td>\n",
              "      <td>500.0</td>\n",
              "      <td>South Australia</td>\n",
              "      <td>South Australia</td>\n",
              "      <td>NaN</td>\n",
              "      <td>Joe Czerwinski</td>\n",
              "      <td>@JoeCz</td>\n",
              "      <td>Penfolds 2014 Bin 707 Cabernet Sauvignon (Sout...</td>\n",
              "      <td>Cabernet Sauvignon</td>\n",
              "      <td>Penfolds</td>\n",
              "    </tr>\n",
              "    <tr>\n",
              "      <th>99340</th>\n",
              "      <td>Australia</td>\n",
              "      <td>This rich, opulent wine carries its massive oa...</td>\n",
              "      <td>Les Amis</td>\n",
              "      <td>95</td>\n",
              "      <td>185.0</td>\n",
              "      <td>South Australia</td>\n",
              "      <td>Barossa Valley</td>\n",
              "      <td>NaN</td>\n",
              "      <td>Joe Czerwinski</td>\n",
              "      <td>@JoeCz</td>\n",
              "      <td>Torbreck 2013 Les Amis Grenache (Barossa Valley)</td>\n",
              "      <td>Grenache</td>\n",
              "      <td>Torbreck</td>\n",
              "    </tr>\n",
              "    <tr>\n",
              "      <th>109427</th>\n",
              "      <td>Australia</td>\n",
              "      <td>This wine is dark brown in hue with a greenish...</td>\n",
              "      <td>Rare</td>\n",
              "      <td>99</td>\n",
              "      <td>300.0</td>\n",
              "      <td>Victoria</td>\n",
              "      <td>Rutherglen</td>\n",
              "      <td>NaN</td>\n",
              "      <td>Joe Czerwinski</td>\n",
              "      <td>@JoeCz</td>\n",
              "      <td>Chambers Rosewood Vineyards NV Rare Muscadelle...</td>\n",
              "      <td>Muscadelle</td>\n",
              "      <td>Chambers Rosewood Vineyards</td>\n",
              "    </tr>\n",
              "    <tr>\n",
              "      <th>109434</th>\n",
              "      <td>Australia</td>\n",
              "      <td>D'Arenberg's lineup of single-vineyard Shiraze...</td>\n",
              "      <td>The Swinging Malaysian Single Vineyard</td>\n",
              "      <td>96</td>\n",
              "      <td>85.0</td>\n",
              "      <td>South Australia</td>\n",
              "      <td>McLaren Vale</td>\n",
              "      <td>NaN</td>\n",
              "      <td>Joe Czerwinski</td>\n",
              "      <td>@JoeCz</td>\n",
              "      <td>D'Arenberg 2010 The Swinging Malaysian Single ...</td>\n",
              "      <td>Shiraz</td>\n",
              "      <td>D'Arenberg</td>\n",
              "    </tr>\n",
              "    <tr>\n",
              "      <th>122421</th>\n",
              "      <td>Australia</td>\n",
              "      <td>Despite this wine's weight and richness, it re...</td>\n",
              "      <td>Amon-Ra Unfiltered</td>\n",
              "      <td>96</td>\n",
              "      <td>110.0</td>\n",
              "      <td>South Australia</td>\n",
              "      <td>Barossa Valley</td>\n",
              "      <td>NaN</td>\n",
              "      <td>Joe Czerwinski</td>\n",
              "      <td>@JoeCz</td>\n",
              "      <td>Glaetzer 2010 Amon-Ra Unfiltered Shiraz (Baros...</td>\n",
              "      <td>Shiraz</td>\n",
              "      <td>Glaetzer</td>\n",
              "    </tr>\n",
              "    <tr>\n",
              "      <th>122430</th>\n",
              "      <td>Australia</td>\n",
              "      <td>These blends are traditional in Australia—they...</td>\n",
              "      <td>Anaperenna</td>\n",
              "      <td>95</td>\n",
              "      <td>80.0</td>\n",
              "      <td>South Australia</td>\n",
              "      <td>Barossa Valley</td>\n",
              "      <td>NaN</td>\n",
              "      <td>Joe Czerwinski</td>\n",
              "      <td>@JoeCz</td>\n",
              "      <td>Glaetzer 2010 Anaperenna Shiraz-Cabernet Sauvi...</td>\n",
              "      <td>Shiraz-Cabernet Sauvignon</td>\n",
              "      <td>Glaetzer</td>\n",
              "    </tr>\n",
              "    <tr>\n",
              "      <th>122939</th>\n",
              "      <td>Australia</td>\n",
              "      <td>Full-bodied and plush yet vibrant and imbued w...</td>\n",
              "      <td>The Factor</td>\n",
              "      <td>98</td>\n",
              "      <td>125.0</td>\n",
              "      <td>South Australia</td>\n",
              "      <td>Barossa Valley</td>\n",
              "      <td>NaN</td>\n",
              "      <td>Joe Czerwinski</td>\n",
              "      <td>@JoeCz</td>\n",
              "      <td>Torbreck 2013 The Factor Shiraz (Barossa Valley)</td>\n",
              "      <td>Shiraz</td>\n",
              "      <td>Torbreck</td>\n",
              "    </tr>\n",
              "  </tbody>\n",
              "</table>\n",
              "</div>"
            ],
            "text/plain": [
              "          country                                        description  \\\n",
              "345     Australia  This wine contains some material over 100 year...   \n",
              "346     Australia  This deep brown wine smells like a damp, mossy...   \n",
              "348     Australia  Deep mahogany. Dried fig and black tea on the ...   \n",
              "349     Australia  RunRig is always complex, and the 2012 doesn't...   \n",
              "356     Australia  Dusty, firm, powerful: just a few apt descript...   \n",
              "360     Australia  Bacon and tapenade elements merge easily on th...   \n",
              "365     Australia  The Taylor family selected Clare Valley for it...   \n",
              "14354   Australia  This wine's concentrated dark fruit shows in t...   \n",
              "16538   Australia  Rich, dense and intense, this is a big, muscul...   \n",
              "28573   Australia  Astralis has become one of Australia's top col...   \n",
              "34502   Australia  This prodigious wine showcases Barossa's abili...   \n",
              "34506   Australia  If Standish's Relic is the feminine side of Sh...   \n",
              "38988   Australia  Penfolds Bin 707 has leapt in quality over the...   \n",
              "39059   Australia  The Taylor family selected Clare Valley for it...   \n",
              "39961   Australia  As unevolved as they are, the dense and multil...   \n",
              "39962   Australia  Seamless luxury from stem to stern, this ‘baby...   \n",
              "45809   Australia  The 2007 Astralis impresses for its combinatio...   \n",
              "56953   Australia  This inky, embryonic wine deserves to be cella...   \n",
              "56956   Australia  You may have to scour the country to secure so...   \n",
              "56957   Australia  Thorn Clarke has taken its Shiraz to a new lev...   \n",
              "56959   Australia  Is this the Yin to Grange's Yang? The wines ar...   \n",
              "59977   Australia  This is a top example of the classic Australia...   \n",
              "59984   Australia  This is a throwback to those brash, flavor-exu...   \n",
              "67096   Australia  Just a tiny serving of this dark nectar will l...   \n",
              "67101   Australia  This Muscat is the color of dark coffee, with ...   \n",
              "76392   Australia  When the alcohol levels are reined in to appro...   \n",
              "77028   Australia  This has all the size and weight you've come t...   \n",
              "77036   Australia  RWT (unromantically derived from “Red Wine Tri...   \n",
              "77037   Australia  Winemaker Dave Powell is no longer with Torbre...   \n",
              "77042   Australia  This is likely the most ageworthy Shiraz winem...   \n",
              "77044   Australia  The fruit for this offering comes from the Gre...   \n",
              "77046   Australia  With aromas and flavors that range widely from...   \n",
              "83357   Australia  A throwback to the monster Shiraz style of old...   \n",
              "84815   Australia  The Factor is always one of Torbreck's biggest...   \n",
              "84816   Australia  Nashwauk is Kaesler's McLaren Vale project, fi...   \n",
              "87128   Australia  This full-bodied, muscular Shiraz is built for...   \n",
              "87137   Australia  Perhaps the best young wine I've tasted from M...   \n",
              "87143   Australia  This is wonderfully complex and aromatic, with...   \n",
              "98386   Australia  One of the more approachable of the d'Arenberg...   \n",
              "99318   Australia  From vines planted in 1912, this has been an i...   \n",
              "99330   Australia  This Cabernet equivalent to Grange has explode...   \n",
              "99340   Australia  This rich, opulent wine carries its massive oa...   \n",
              "109427  Australia  This wine is dark brown in hue with a greenish...   \n",
              "109434  Australia  D'Arenberg's lineup of single-vineyard Shiraze...   \n",
              "122421  Australia  Despite this wine's weight and richness, it re...   \n",
              "122430  Australia  These blends are traditional in Australia—they...   \n",
              "122939  Australia  Full-bodied and plush yet vibrant and imbued w...   \n",
              "\n",
              "                                   designation  points  price  \\\n",
              "345                                       Rare     100  350.0   \n",
              "346                                       Rare      98  350.0   \n",
              "348                                      Grand      97  100.0   \n",
              "349                                     RunRig      97  225.0   \n",
              "356                          Georgia's Paddock      95   85.0   \n",
              "360                                 Descendant      95  125.0   \n",
              "365        St. Andrews Single Vineyard Release      95   60.0   \n",
              "14354                                 Old Vine      95   60.0   \n",
              "16538                          The Family Tree      95   65.0   \n",
              "28573                                 Astralis      95  350.0   \n",
              "34502                                The Relic      98  135.0   \n",
              "34506             The Standish Single Vineyard      96  135.0   \n",
              "38988                                  Bin 707      95  200.0   \n",
              "39059      St. Andrews Single Vineyard Release      95   60.0   \n",
              "39961                                   Grange      96  185.0   \n",
              "39962                                      RWT      95   70.0   \n",
              "45809                                 Astralis      95  225.0   \n",
              "56953                                   Grange      99  850.0   \n",
              "56956                               Andelmonde      97   95.0   \n",
              "56957                Ron Thorn Single Vineyard      96   89.0   \n",
              "56959                            Hill of Grace      96  820.0   \n",
              "59977                                The Peake      96  150.0   \n",
              "59984                                      One      95   95.0   \n",
              "67096                            Calliope Rare      98   86.0   \n",
              "67101                                     Rare      95  300.0   \n",
              "76392                        Georgia's Paddock      95   85.0   \n",
              "77028                                   Grange      98  850.0   \n",
              "77036                                      RWT      96  150.0   \n",
              "77037                                   RunRig      96  225.0   \n",
              "77042                                    Eligo      95  100.0   \n",
              "77044                                R Reserve      95  105.0   \n",
              "77046                               The Factor      95  125.0   \n",
              "83357                                   Grange      96  500.0   \n",
              "84815                               The Factor      95  125.0   \n",
              "84816                                   Beacon      95  145.0   \n",
              "87128                   Amery Vineyard Block 6      96  120.0   \n",
              "87137                                      NaN      95   84.0   \n",
              "87143      St. Andrews Single Vineyard Release      95   60.0   \n",
              "98386            Little Venice Single Vineyard      95   85.0   \n",
              "99318                 Mount Edelstone Vineyard      95  200.0   \n",
              "99330                                  Bin 707      95  500.0   \n",
              "99340                                 Les Amis      95  185.0   \n",
              "109427                                    Rare      99  300.0   \n",
              "109434  The Swinging Malaysian Single Vineyard      96   85.0   \n",
              "122421                      Amon-Ra Unfiltered      96  110.0   \n",
              "122430                              Anaperenna      95   80.0   \n",
              "122939                              The Factor      98  125.0   \n",
              "\n",
              "                 province         region_1 region_2     taster_name  \\\n",
              "345              Victoria       Rutherglen      NaN  Joe Czerwinski   \n",
              "346              Victoria       Rutherglen      NaN  Joe Czerwinski   \n",
              "348              Victoria       Rutherglen      NaN  Joe Czerwinski   \n",
              "349       South Australia          Barossa      NaN  Joe Czerwinski   \n",
              "356              Victoria        Heathcote      NaN  Joe Czerwinski   \n",
              "360       South Australia   Barossa Valley      NaN  Joe Czerwinski   \n",
              "365       South Australia     Clare Valley      NaN  Joe Czerwinski   \n",
              "14354     South Australia   Barossa Valley      NaN  Joe Czerwinski   \n",
              "16538     South Australia   Barossa Valley      NaN  Joe Czerwinski   \n",
              "28573     South Australia        Clarendon      NaN  Joe Czerwinski   \n",
              "34502     South Australia   Barossa Valley      NaN  Joe Czerwinski   \n",
              "34506     South Australia   Barossa Valley      NaN  Joe Czerwinski   \n",
              "38988     South Australia  South Australia      NaN  Joe Czerwinski   \n",
              "39059     South Australia     Clare Valley      NaN  Joe Czerwinski   \n",
              "39961     South Australia  South Australia      NaN             NaN   \n",
              "39962     South Australia   Barossa Valley      NaN             NaN   \n",
              "45809     South Australia        Clarendon      NaN  Joe Czerwinski   \n",
              "56953     South Australia  South Australia      NaN  Joe Czerwinski   \n",
              "56956     South Australia   Barossa Valley      NaN  Joe Czerwinski   \n",
              "56957     South Australia          Barossa      NaN  Joe Czerwinski   \n",
              "56959     South Australia      Eden Valley      NaN  Joe Czerwinski   \n",
              "59977     South Australia     McLaren Vale      NaN  Joe Czerwinski   \n",
              "59984     South Australia  Langhorne Creek      NaN  Joe Czerwinski   \n",
              "67096            Victoria       Rutherglen      NaN  Joe Czerwinski   \n",
              "67101            Victoria       Rutherglen      NaN  Joe Czerwinski   \n",
              "76392            Victoria        Heathcote      NaN  Joe Czerwinski   \n",
              "77028     South Australia  South Australia      NaN  Joe Czerwinski   \n",
              "77036     South Australia   Barossa Valley      NaN  Joe Czerwinski   \n",
              "77037     South Australia   Barossa Valley      NaN  Joe Czerwinski   \n",
              "77042     South Australia          Barossa      NaN  Joe Czerwinski   \n",
              "77044     South Australia   Barossa Valley      NaN  Joe Czerwinski   \n",
              "77046     South Australia   Barossa Valley      NaN  Joe Czerwinski   \n",
              "83357     South Australia  South Australia      NaN  Joe Czerwinski   \n",
              "84815     South Australia          Barossa      NaN  Joe Czerwinski   \n",
              "84816     South Australia     McLaren Vale      NaN  Joe Czerwinski   \n",
              "87128     South Australia     McLaren Vale      NaN  Joe Czerwinski   \n",
              "87137   Western Australia   Margaret River      NaN  Joe Czerwinski   \n",
              "87143     South Australia     Clare Valley      NaN  Joe Czerwinski   \n",
              "98386     South Australia     McLaren Vale      NaN  Joe Czerwinski   \n",
              "99318     South Australia      Eden Valley      NaN  Joe Czerwinski   \n",
              "99330     South Australia  South Australia      NaN  Joe Czerwinski   \n",
              "99340     South Australia   Barossa Valley      NaN  Joe Czerwinski   \n",
              "109427           Victoria       Rutherglen      NaN  Joe Czerwinski   \n",
              "109434    South Australia     McLaren Vale      NaN  Joe Czerwinski   \n",
              "122421    South Australia   Barossa Valley      NaN  Joe Czerwinski   \n",
              "122430    South Australia   Barossa Valley      NaN  Joe Czerwinski   \n",
              "122939    South Australia   Barossa Valley      NaN  Joe Czerwinski   \n",
              "\n",
              "       taster_twitter_handle  \\\n",
              "345                   @JoeCz   \n",
              "346                   @JoeCz   \n",
              "348                   @JoeCz   \n",
              "349                   @JoeCz   \n",
              "356                   @JoeCz   \n",
              "360                   @JoeCz   \n",
              "365                   @JoeCz   \n",
              "14354                 @JoeCz   \n",
              "16538                 @JoeCz   \n",
              "28573                 @JoeCz   \n",
              "34502                 @JoeCz   \n",
              "34506                 @JoeCz   \n",
              "38988                 @JoeCz   \n",
              "39059                 @JoeCz   \n",
              "39961                    NaN   \n",
              "39962                    NaN   \n",
              "45809                 @JoeCz   \n",
              "56953                 @JoeCz   \n",
              "56956                 @JoeCz   \n",
              "56957                 @JoeCz   \n",
              "56959                 @JoeCz   \n",
              "59977                 @JoeCz   \n",
              "59984                 @JoeCz   \n",
              "67096                 @JoeCz   \n",
              "67101                 @JoeCz   \n",
              "76392                 @JoeCz   \n",
              "77028                 @JoeCz   \n",
              "77036                 @JoeCz   \n",
              "77037                 @JoeCz   \n",
              "77042                 @JoeCz   \n",
              "77044                 @JoeCz   \n",
              "77046                 @JoeCz   \n",
              "83357                 @JoeCz   \n",
              "84815                 @JoeCz   \n",
              "84816                 @JoeCz   \n",
              "87128                 @JoeCz   \n",
              "87137                 @JoeCz   \n",
              "87143                 @JoeCz   \n",
              "98386                 @JoeCz   \n",
              "99318                 @JoeCz   \n",
              "99330                 @JoeCz   \n",
              "99340                 @JoeCz   \n",
              "109427                @JoeCz   \n",
              "109434                @JoeCz   \n",
              "122421                @JoeCz   \n",
              "122430                @JoeCz   \n",
              "122939                @JoeCz   \n",
              "\n",
              "                                                    title  \\\n",
              "345     Chambers Rosewood Vineyards NV Rare Muscat (Ru...   \n",
              "346     Chambers Rosewood Vineyards NV Rare Muscadelle...   \n",
              "348     Chambers Rosewood Vineyards NV Grand Muscat (R...   \n",
              "349        Torbreck 2012 RunRig Shiraz-Viognier (Barossa)   \n",
              "356     Jasper Hill 2013 Georgia's Paddock Shiraz (Hea...   \n",
              "360     Torbreck 2012 Descendant Shiraz-Viognier (Baro...   \n",
              "365     Wakefield 2013 St. Andrews Single Vineyard Rel...   \n",
              "14354       Kaesler 2006 Old Vine Shiraz (Barossa Valley)   \n",
              "16538   Lambert 2013 The Family Tree Shiraz (Barossa V...   \n",
              "28573     Clarendon Hills 2005 Astralis Syrah (Clarendon)   \n",
              "34502     Standish 2006 The Relic Shiraz (Barossa Valley)   \n",
              "34506   Standish 2005 The Standish Single Vineyard Shi...   \n",
              "38988   Penfolds 2009 Bin 707 Cabernet Sauvignon (Sout...   \n",
              "39059   Wakefield 2013 St. Andrews Single Vineyard Rel...   \n",
              "39961       Penfolds 1996 Grange Shiraz (South Australia)   \n",
              "39962           Penfolds 1998 RWT Shiraz (Barossa Valley)   \n",
              "45809     Clarendon Hills 2007 Astralis Syrah (Clarendon)   \n",
              "56953       Penfolds 2010 Grange Shiraz (South Australia)   \n",
              "56956    Standish 2012 Andelmonde Shiraz (Barossa Valley)   \n",
              "56957   Thorn Clarke 2012 Ron Thorn Single Vineyard Sh...   \n",
              "56959    Henschke 2010 Hill of Grace Shiraz (Eden Valley)   \n",
              "59977   Hickinbotham 2013 The Peake Cabernet-Shiraz (M...   \n",
              "59984            Heartland 2013 One Red (Langhorne Creek)   \n",
              "67096   R.L. Buller & Son NV Calliope Rare Tokay (Ruth...   \n",
              "67101   Chambers Rosewood Vineyards NV Rare Muscat (Ru...   \n",
              "76392   Jasper Hill 2012 Georgia's Paddock Shiraz (Hea...   \n",
              "77028       Penfolds 2008 Grange Shiraz (South Australia)   \n",
              "77036           Penfolds 2009 RWT Shiraz (Barossa Valley)   \n",
              "77037   Torbreck 2007 RunRig Shiraz-Viognier (Barossa ...   \n",
              "77042        John Duval Wines 2010 Eligo Shiraz (Barossa)   \n",
              "77044   Kilikanoon 2009 R Reserve Shiraz (Barossa Valley)   \n",
              "77046    Torbreck 2007 The Factor Shiraz (Barossa Valley)   \n",
              "83357       Penfolds 2004 Grange Shiraz (South Australia)   \n",
              "84815           Torbreck 2012 The Factor Shiraz (Barossa)   \n",
              "84816          Nashwauk 2010 Beacon Shiraz (McLaren Vale)   \n",
              "87128   Kay Brothers 2012 Amery Vineyard Block 6 Shira...   \n",
              "87137   Moss Wood 2011 Cabernet Sauvignon (Margaret Ri...   \n",
              "87143   Wakefield 2012 St. Andrews Single Vineyard Rel...   \n",
              "98386   D'Arenberg 2010 Little Venice Single Vineyard ...   \n",
              "99318   Henschke 2014 Mount Edelstone Vineyard Shiraz ...   \n",
              "99330   Penfolds 2014 Bin 707 Cabernet Sauvignon (Sout...   \n",
              "99340    Torbreck 2013 Les Amis Grenache (Barossa Valley)   \n",
              "109427  Chambers Rosewood Vineyards NV Rare Muscadelle...   \n",
              "109434  D'Arenberg 2010 The Swinging Malaysian Single ...   \n",
              "122421  Glaetzer 2010 Amon-Ra Unfiltered Shiraz (Baros...   \n",
              "122430  Glaetzer 2010 Anaperenna Shiraz-Cabernet Sauvi...   \n",
              "122939   Torbreck 2013 The Factor Shiraz (Barossa Valley)   \n",
              "\n",
              "                          variety                       winery  \n",
              "345                        Muscat  Chambers Rosewood Vineyards  \n",
              "346                    Muscadelle  Chambers Rosewood Vineyards  \n",
              "348                        Muscat  Chambers Rosewood Vineyards  \n",
              "349               Shiraz-Viognier                     Torbreck  \n",
              "356                        Shiraz                  Jasper Hill  \n",
              "360               Shiraz-Viognier                     Torbreck  \n",
              "365                        Shiraz                    Wakefield  \n",
              "14354                      Shiraz                      Kaesler  \n",
              "16538                      Shiraz                      Lambert  \n",
              "28573                       Syrah              Clarendon Hills  \n",
              "34502                      Shiraz                     Standish  \n",
              "34506                      Shiraz                     Standish  \n",
              "38988          Cabernet Sauvignon                     Penfolds  \n",
              "39059                      Shiraz                    Wakefield  \n",
              "39961                      Shiraz                     Penfolds  \n",
              "39962                      Shiraz                     Penfolds  \n",
              "45809                       Syrah              Clarendon Hills  \n",
              "56953                      Shiraz                     Penfolds  \n",
              "56956                      Shiraz                     Standish  \n",
              "56957                      Shiraz                 Thorn Clarke  \n",
              "56959                      Shiraz                     Henschke  \n",
              "59977             Cabernet-Shiraz                 Hickinbotham  \n",
              "59984                   Red Blend                    Heartland  \n",
              "67096                       Tokay            R.L. Buller & Son  \n",
              "67101                      Muscat  Chambers Rosewood Vineyards  \n",
              "76392                      Shiraz                  Jasper Hill  \n",
              "77028                      Shiraz                     Penfolds  \n",
              "77036                      Shiraz                     Penfolds  \n",
              "77037             Shiraz-Viognier                     Torbreck  \n",
              "77042                      Shiraz             John Duval Wines  \n",
              "77044                      Shiraz                   Kilikanoon  \n",
              "77046                      Shiraz                     Torbreck  \n",
              "83357                      Shiraz                     Penfolds  \n",
              "84815                      Shiraz                     Torbreck  \n",
              "84816                      Shiraz                     Nashwauk  \n",
              "87128                      Shiraz                 Kay Brothers  \n",
              "87137          Cabernet Sauvignon                    Moss Wood  \n",
              "87143                      Shiraz                    Wakefield  \n",
              "98386                      Shiraz                   D'Arenberg  \n",
              "99318                      Shiraz                     Henschke  \n",
              "99330          Cabernet Sauvignon                     Penfolds  \n",
              "99340                    Grenache                     Torbreck  \n",
              "109427                 Muscadelle  Chambers Rosewood Vineyards  \n",
              "109434                     Shiraz                   D'Arenberg  \n",
              "122421                     Shiraz                     Glaetzer  \n",
              "122430  Shiraz-Cabernet Sauvignon                     Glaetzer  \n",
              "122939                     Shiraz                     Torbreck  "
            ]
          },
          "execution_count": 194,
          "metadata": {},
          "output_type": "execute_result"
        }
      ],
      "source": [
        "# here your code\n",
        "\n",
        "top_oceania_wines = reviews[(reviews.points >= 95) & ((reviews.country == 'Australia') | (reviews.country == ' Italy' )) ]\n",
        "top_oceania_wines"
      ]
    },
    {
      "cell_type": "markdown",
      "metadata": {
        "id": "nCnC4sb0-X3o"
      },
      "source": [
        " # Section C : Summary Functions and Maps"
      ]
    },
    {
      "cell_type": "markdown",
      "metadata": {
        "id": "QnNQiYZ6-t_G"
      },
      "source": [
        "## 1.\n",
        "\n",
        "What is the median of the `points` column in the `reviews` DataFrame?"
      ]
    },
    {
      "cell_type": "code",
      "execution_count": 212,
      "metadata": {
        "id": "hwFr7dLm-jxr"
      },
      "outputs": [
        {
          "data": {
            "text/plain": [
              "np.float64(88.0)"
            ]
          },
          "execution_count": 212,
          "metadata": {},
          "output_type": "execute_result"
        }
      ],
      "source": [
        "# Here your code\n",
        "reviews.points.median()"
      ]
    },
    {
      "cell_type": "markdown",
      "metadata": {
        "id": "Sok3-wRC_MCU"
      },
      "source": [
        "## 2.\n",
        "What countries are represented in the dataset? (Your answer should not include any duplicates.)"
      ]
    },
    {
      "cell_type": "code",
      "execution_count": 200,
      "metadata": {
        "id": "1sV8DzbM-6Wd"
      },
      "outputs": [
        {
          "data": {
            "text/plain": [
              "array(['Italy', 'Portugal', 'US', 'Spain', 'France', 'Germany',\n",
              "       'Argentina', 'Chile', 'Australia', 'Austria', 'South Africa',\n",
              "       'New Zealand', 'Israel', 'Hungary', 'Greece', 'Romania', 'Mexico',\n",
              "       'Canada', nan, 'Turkey', 'Czech Republic', 'Slovenia',\n",
              "       'Luxembourg', 'Croatia', 'Georgia', 'Uruguay', 'England',\n",
              "       'Lebanon', 'Serbia', 'Brazil', 'Moldova', 'Morocco', 'Peru',\n",
              "       'India', 'Bulgaria', 'Cyprus', 'Armenia', 'Switzerland',\n",
              "       'Bosnia and Herzegovina', 'Ukraine', 'Slovakia', 'Macedonia',\n",
              "       'China', 'Egypt'], dtype=object)"
            ]
          },
          "execution_count": 200,
          "metadata": {},
          "output_type": "execute_result"
        }
      ],
      "source": [
        "# Here your code\n",
        "reviews['country'].unique()"
      ]
    },
    {
      "cell_type": "markdown",
      "metadata": {
        "id": "rFv6RIXr_dCl"
      },
      "source": [
        "## 3.\n",
        "How often does each country appear in the dataset? Create a Series `reviews_per_country` mapping countries to the count of reviews of wines from that country."
      ]
    },
    {
      "cell_type": "code",
      "execution_count": 203,
      "metadata": {
        "id": "626PFxlA_dhe"
      },
      "outputs": [
        {
          "data": {
            "text/plain": [
              "country\n",
              "US                        54504\n",
              "France                    22093\n",
              "Italy                     19540\n",
              "Spain                      6645\n",
              "Portugal                   5691\n",
              "Chile                      4472\n",
              "Argentina                  3800\n",
              "Austria                    3345\n",
              "Australia                  2329\n",
              "Germany                    2165\n",
              "New Zealand                1419\n",
              "South Africa               1401\n",
              "Israel                      505\n",
              "Greece                      466\n",
              "Canada                      257\n",
              "Hungary                     146\n",
              "Bulgaria                    141\n",
              "Romania                     120\n",
              "Uruguay                     109\n",
              "Turkey                       90\n",
              "Slovenia                     87\n",
              "Georgia                      86\n",
              "England                      74\n",
              "Croatia                      73\n",
              "Mexico                       70\n",
              "Moldova                      59\n",
              "Brazil                       52\n",
              "Lebanon                      35\n",
              "Morocco                      28\n",
              "Peru                         16\n",
              "Ukraine                      14\n",
              "Serbia                       12\n",
              "Czech Republic               12\n",
              "Macedonia                    12\n",
              "Cyprus                       11\n",
              "India                         9\n",
              "Switzerland                   7\n",
              "Luxembourg                    6\n",
              "Bosnia and Herzegovina        2\n",
              "Armenia                       2\n",
              "Slovakia                      1\n",
              "China                         1\n",
              "Egypt                         1\n",
              "Name: count, dtype: int64"
            ]
          },
          "execution_count": 203,
          "metadata": {},
          "output_type": "execute_result"
        }
      ],
      "source": [
        " # Here your code\n",
        "\n",
        " reviews_per_country = reviews['country'].value_counts()\n",
        " reviews_per_country"
      ]
    },
    {
      "cell_type": "markdown",
      "metadata": {
        "id": "i8JIOP-y_9Ew"
      },
      "source": [
        "## 4.\n",
        "Create variable `centered_price` containing a version of the `price` column with the mean price subtracted.\n",
        "\n",
        "(Note: this 'centering' transformation is a common preprocessing step before applying various machine learning algorithms.)"
      ]
    },
    {
      "cell_type": "code",
      "execution_count": 207,
      "metadata": {
        "id": "h5FZaEZ4__2T"
      },
      "outputs": [
        {
          "data": {
            "text/plain": [
              "0               NaN\n",
              "1        -20.363389\n",
              "2        -21.363389\n",
              "3        -22.363389\n",
              "4         29.636611\n",
              "            ...    \n",
              "129966    -7.363389\n",
              "129967    39.636611\n",
              "129968    -5.363389\n",
              "129969    -3.363389\n",
              "129970   -14.363389\n",
              "Name: price, Length: 129971, dtype: float64"
            ]
          },
          "execution_count": 207,
          "metadata": {},
          "output_type": "execute_result"
        }
      ],
      "source": [
        " # Here your code\n",
        "\n",
        " centerd_price = reviews['price'] - reviews['price'].mean()\n",
        " centerd_price"
      ]
    },
    {
      "cell_type": "markdown",
      "metadata": {
        "id": "veKOuiIuBJ4m"
      },
      "source": [
        "## 5.\n",
        "I'm an economical wine buyer. Which wine is the \"best bargain\"? Create a variable `bargain_wine` with the title of the wine with the highest points-to-price ratio in the dataset."
      ]
    },
    {
      "cell_type": "code",
      "execution_count": 231,
      "metadata": {},
      "outputs": [
        {
          "data": {
            "text/plain": [
              "64590                         Bandit NV Merlot (California)\n",
              "126096    Cramele Recas 2011 UnWineD Pinot Grigio (Viile...\n",
              "Name: title, dtype: object"
            ]
          },
          "execution_count": 231,
          "metadata": {},
          "output_type": "execute_result"
        }
      ],
      "source": [
        "# find reviews where price is greater than zero or Nan\n",
        "df = reviews[reviews['price']>0]\n",
        "reviews['ratio']= reviews['points'] / df['price']\n",
        "bargain_wine = reviews[reviews['ratio']==reviews['ratio'].max()].loc[:,'title']\n",
        "bargain_wine"
      ]
    },
    {
      "cell_type": "markdown",
      "metadata": {
        "id": "UTlAwRJUBRLr"
      },
      "source": [
        "## 6.\n",
        "There are only so many words you can use when describing a bottle of wine. Is a wine more likely to be \"tropical\" or \"fruity\"? Create a Series `descriptor_counts` counting how many times each of these two words appears in the `description` column in the dataset. (For simplicity, let's ignore the capitalized versions of these words.)"
      ]
    },
    {
      "cell_type": "code",
      "execution_count": 236,
      "metadata": {
        "id": "as73K0j5BOKn"
      },
      "outputs": [
        {
          "data": {
            "text/plain": [
              "0    3607\n",
              "1    9090\n",
              "dtype: int64"
            ]
          },
          "execution_count": 236,
          "metadata": {},
          "output_type": "execute_result"
        }
      ],
      "source": [
        "#your code goes here\n",
        "descriptor_counts = pd.Series([reviews['description'].str.contains('tropical').sum(), reviews['description'].str.contains('fruity').sum()])\n",
        "descriptor_counts"
      ]
    },
    {
      "cell_type": "markdown",
      "metadata": {
        "id": "wA7YkquBBWdP"
      },
      "source": [
        "## 7.\n",
        "We'd like to host these wine reviews on our website, but a rating system ranging from 80 to 100 points is too hard to understand - we'd like to translate them into simple star ratings. A score of 95 or higher counts as 3 stars, a score of at least 85 but less than 95 is 2 stars. Any other score is 1 star.\n",
        "\n",
        "Also, the Canadian Vintners Association bought a lot of ads on the site, so any wines from Canada should automatically get 3 stars, regardless of points.\n",
        "\n",
        "Create a series `star_ratings` with the number of stars corresponding to each review in the dataset."
      ]
    },
    {
      "cell_type": "code",
      "execution_count": 261,
      "metadata": {
        "colab": {
          "base_uri": "https://localhost:8080/",
          "height": 642
        },
        "id": "_L6cpHM9BN9d",
        "outputId": "daeec5ee-27c3-44e2-fd80-86ac06ab5f4a"
      },
      "outputs": [
        {
          "data": {
            "text/plain": [
              "0         2\n",
              "1         2\n",
              "2         2\n",
              "3         2\n",
              "4         2\n",
              "         ..\n",
              "129966    2\n",
              "129967    2\n",
              "129968    2\n",
              "129969    2\n",
              "129970    2\n",
              "Length: 129971, dtype: int64"
            ]
          },
          "execution_count": 261,
          "metadata": {},
          "output_type": "execute_result"
        }
      ],
      "source": [
        "star_ratings = pd.Series(\n",
        "                        np.where ((reviews['country']=='Canada')|(reviews['points'] >= 95), 3 , \n",
        "                        np.where(reviews['points'] >= 85, 2, 1)), index = reviews.index)\n",
        "\n",
        "star_ratings\n"
      ]
    },
    {
      "cell_type": "markdown",
      "metadata": {
        "id": "COFusAseeFdU"
      },
      "source": [
        "# Section D : Sorting and Grouping"
      ]
    },
    {
      "cell_type": "markdown",
      "metadata": {
        "id": "FLrhqjB9gTJh"
      },
      "source": [
        "## 1.\n",
        "Who are the most common wine reviewers in the dataset? Create a `Series` whose index is the `taster_twitter_handle` category from the dataset, and whose values count how many reviews each person wrote."
      ]
    },
    {
      "cell_type": "code",
      "execution_count": 264,
      "metadata": {
        "id": "UvbYd64OeKgr"
      },
      "outputs": [
        {
          "data": {
            "text/plain": [
              "taster_twitter_handle\n",
              "@vossroger          25514\n",
              "@wineschach         15134\n",
              "@kerinokeefe        10776\n",
              "@vboone              9537\n",
              "@paulgwine           9532\n",
              "@mattkettmann        6332\n",
              "@JoeCz               5147\n",
              "@wawinereport        4966\n",
              "@gordone_cellars     4177\n",
              "@AnneInVino          3685\n",
              "@laurbuzz            1835\n",
              "@suskostrzewa        1085\n",
              "@worldwineguys       1005\n",
              "@bkfiona               27\n",
              "@winewchristina         6\n",
              "Name: count, dtype: int64"
            ]
          },
          "execution_count": 264,
          "metadata": {},
          "output_type": "execute_result"
        }
      ],
      "source": [
        "# Your code here\n",
        "reviewer_count = reviews['taster_twitter_handle'].value_counts()\n",
        "reviewer_count"
      ]
    },
    {
      "cell_type": "markdown",
      "metadata": {
        "id": "erGPzY9xgeCH"
      },
      "source": [
        "## 2.\n",
        "What is the best wine I can buy for a given amount of money? Create a `Series` whose index is wine prices and whose values is the maximum number of points a wine costing that much was given in a review. Sort the values by price, ascending (so that `4.0` dollars is at the top and `3300.0` dollars is at the bottom)."
      ]
    },
    {
      "cell_type": "code",
      "execution_count": 267,
      "metadata": {
        "id": "DbugurbXeKeh"
      },
      "outputs": [
        {
          "data": {
            "text/plain": [
              "price\n",
              "4.0       86\n",
              "5.0       87\n",
              "6.0       88\n",
              "7.0       91\n",
              "8.0       91\n",
              "          ..\n",
              "1900.0    98\n",
              "2000.0    97\n",
              "2013.0    91\n",
              "2500.0    96\n",
              "3300.0    88\n",
              "Name: points, Length: 390, dtype: int64"
            ]
          },
          "execution_count": 267,
          "metadata": {},
          "output_type": "execute_result"
        }
      ],
      "source": [
        "# Your code here\n",
        "best_wine_per_price = reviews.groupby('price')['points'].max()\n",
        "#best_wine_per_price = best_wine_per_price.sort_index()\n",
        "best_wine_per_price \n"
      ]
    },
    {
      "cell_type": "markdown",
      "metadata": {
        "id": "4VJKRXNZghlu"
      },
      "source": [
        "## 3.\n",
        "What are the minimum and maximum prices for each `variety` of wine? Create a `DataFrame` whose index is the `variety` category from the dataset and whose values are the `min` and `max` values thereof."
      ]
    },
    {
      "cell_type": "code",
      "execution_count": 275,
      "metadata": {
        "id": "If8BdCIveKbT"
      },
      "outputs": [
        {
          "data": {
            "text/html": [
              "<div>\n",
              "<style scoped>\n",
              "    .dataframe tbody tr th:only-of-type {\n",
              "        vertical-align: middle;\n",
              "    }\n",
              "\n",
              "    .dataframe tbody tr th {\n",
              "        vertical-align: top;\n",
              "    }\n",
              "\n",
              "    .dataframe thead th {\n",
              "        text-align: right;\n",
              "    }\n",
              "</style>\n",
              "<table border=\"1\" class=\"dataframe\">\n",
              "  <thead>\n",
              "    <tr style=\"text-align: right;\">\n",
              "      <th></th>\n",
              "      <th>min</th>\n",
              "      <th>max</th>\n",
              "    </tr>\n",
              "    <tr>\n",
              "      <th>variety</th>\n",
              "      <th></th>\n",
              "      <th></th>\n",
              "    </tr>\n",
              "  </thead>\n",
              "  <tbody>\n",
              "    <tr>\n",
              "      <th>Abouriou</th>\n",
              "      <td>15.0</td>\n",
              "      <td>75.0</td>\n",
              "    </tr>\n",
              "    <tr>\n",
              "      <th>Agiorgitiko</th>\n",
              "      <td>10.0</td>\n",
              "      <td>66.0</td>\n",
              "    </tr>\n",
              "    <tr>\n",
              "      <th>Aglianico</th>\n",
              "      <td>6.0</td>\n",
              "      <td>180.0</td>\n",
              "    </tr>\n",
              "    <tr>\n",
              "      <th>Aidani</th>\n",
              "      <td>27.0</td>\n",
              "      <td>27.0</td>\n",
              "    </tr>\n",
              "    <tr>\n",
              "      <th>Airen</th>\n",
              "      <td>8.0</td>\n",
              "      <td>10.0</td>\n",
              "    </tr>\n",
              "    <tr>\n",
              "      <th>...</th>\n",
              "      <td>...</td>\n",
              "      <td>...</td>\n",
              "    </tr>\n",
              "    <tr>\n",
              "      <th>Zinfandel</th>\n",
              "      <td>5.0</td>\n",
              "      <td>100.0</td>\n",
              "    </tr>\n",
              "    <tr>\n",
              "      <th>Zlahtina</th>\n",
              "      <td>13.0</td>\n",
              "      <td>16.0</td>\n",
              "    </tr>\n",
              "    <tr>\n",
              "      <th>Zweigelt</th>\n",
              "      <td>9.0</td>\n",
              "      <td>70.0</td>\n",
              "    </tr>\n",
              "    <tr>\n",
              "      <th>Çalkarası</th>\n",
              "      <td>19.0</td>\n",
              "      <td>19.0</td>\n",
              "    </tr>\n",
              "    <tr>\n",
              "      <th>Žilavka</th>\n",
              "      <td>15.0</td>\n",
              "      <td>15.0</td>\n",
              "    </tr>\n",
              "  </tbody>\n",
              "</table>\n",
              "<p>707 rows × 2 columns</p>\n",
              "</div>"
            ],
            "text/plain": [
              "              min    max\n",
              "variety                 \n",
              "Abouriou     15.0   75.0\n",
              "Agiorgitiko  10.0   66.0\n",
              "Aglianico     6.0  180.0\n",
              "Aidani       27.0   27.0\n",
              "Airen         8.0   10.0\n",
              "...           ...    ...\n",
              "Zinfandel     5.0  100.0\n",
              "Zlahtina     13.0   16.0\n",
              "Zweigelt      9.0   70.0\n",
              "Çalkarası    19.0   19.0\n",
              "Žilavka      15.0   15.0\n",
              "\n",
              "[707 rows x 2 columns]"
            ]
          },
          "execution_count": 275,
          "metadata": {},
          "output_type": "execute_result"
        }
      ],
      "source": [
        "# Your code here\n",
        "variety_price = reviews.groupby('variety')['price'].agg(['min', 'max'])\n",
        "variety_price"
      ]
    },
    {
      "cell_type": "markdown",
      "metadata": {
        "id": "O7LhTr5Mgocv"
      },
      "source": [
        "## 4.\n",
        "What are the most expensive wine varieties? Create a variable `sorted_varieties` containing a copy of the dataframe from the previous question where varieties are sorted in descending order based on minimum price, then on maximum price (to break ties)."
      ]
    },
    {
      "cell_type": "code",
      "execution_count": 277,
      "metadata": {
        "id": "8YsjsIE_eKY_"
      },
      "outputs": [
        {
          "data": {
            "text/html": [
              "<div>\n",
              "<style scoped>\n",
              "    .dataframe tbody tr th:only-of-type {\n",
              "        vertical-align: middle;\n",
              "    }\n",
              "\n",
              "    .dataframe tbody tr th {\n",
              "        vertical-align: top;\n",
              "    }\n",
              "\n",
              "    .dataframe thead th {\n",
              "        text-align: right;\n",
              "    }\n",
              "</style>\n",
              "<table border=\"1\" class=\"dataframe\">\n",
              "  <thead>\n",
              "    <tr style=\"text-align: right;\">\n",
              "      <th></th>\n",
              "      <th>min</th>\n",
              "      <th>max</th>\n",
              "    </tr>\n",
              "    <tr>\n",
              "      <th>variety</th>\n",
              "      <th></th>\n",
              "      <th></th>\n",
              "    </tr>\n",
              "  </thead>\n",
              "  <tbody>\n",
              "    <tr>\n",
              "      <th>Ramisco</th>\n",
              "      <td>495.0</td>\n",
              "      <td>495.0</td>\n",
              "    </tr>\n",
              "    <tr>\n",
              "      <th>Terrantez</th>\n",
              "      <td>236.0</td>\n",
              "      <td>236.0</td>\n",
              "    </tr>\n",
              "    <tr>\n",
              "      <th>Francisa</th>\n",
              "      <td>160.0</td>\n",
              "      <td>160.0</td>\n",
              "    </tr>\n",
              "    <tr>\n",
              "      <th>Rosenmuskateller</th>\n",
              "      <td>150.0</td>\n",
              "      <td>150.0</td>\n",
              "    </tr>\n",
              "    <tr>\n",
              "      <th>Tinta Negra Mole</th>\n",
              "      <td>112.0</td>\n",
              "      <td>112.0</td>\n",
              "    </tr>\n",
              "    <tr>\n",
              "      <th>...</th>\n",
              "      <td>...</td>\n",
              "      <td>...</td>\n",
              "    </tr>\n",
              "    <tr>\n",
              "      <th>Roscetto</th>\n",
              "      <td>NaN</td>\n",
              "      <td>NaN</td>\n",
              "    </tr>\n",
              "    <tr>\n",
              "      <th>Sauvignon Blanc-Sauvignon Gris</th>\n",
              "      <td>NaN</td>\n",
              "      <td>NaN</td>\n",
              "    </tr>\n",
              "    <tr>\n",
              "      <th>Tempranillo-Malbec</th>\n",
              "      <td>NaN</td>\n",
              "      <td>NaN</td>\n",
              "    </tr>\n",
              "    <tr>\n",
              "      <th>Vital</th>\n",
              "      <td>NaN</td>\n",
              "      <td>NaN</td>\n",
              "    </tr>\n",
              "    <tr>\n",
              "      <th>Zelen</th>\n",
              "      <td>NaN</td>\n",
              "      <td>NaN</td>\n",
              "    </tr>\n",
              "  </tbody>\n",
              "</table>\n",
              "<p>707 rows × 2 columns</p>\n",
              "</div>"
            ],
            "text/plain": [
              "                                  min    max\n",
              "variety                                     \n",
              "Ramisco                         495.0  495.0\n",
              "Terrantez                       236.0  236.0\n",
              "Francisa                        160.0  160.0\n",
              "Rosenmuskateller                150.0  150.0\n",
              "Tinta Negra Mole                112.0  112.0\n",
              "...                               ...    ...\n",
              "Roscetto                          NaN    NaN\n",
              "Sauvignon Blanc-Sauvignon Gris    NaN    NaN\n",
              "Tempranillo-Malbec                NaN    NaN\n",
              "Vital                             NaN    NaN\n",
              "Zelen                             NaN    NaN\n",
              "\n",
              "[707 rows x 2 columns]"
            ]
          },
          "execution_count": 277,
          "metadata": {},
          "output_type": "execute_result"
        }
      ],
      "source": [
        "# Your code here\n",
        "sorted_varieties = variety_price.sort_values(by=['min', 'max'], ascending=[False, False])\n",
        "sorted_varieties"
      ]
    },
    {
      "cell_type": "markdown",
      "metadata": {
        "id": "gtwQhJ0Hgw7Z"
      },
      "source": [
        "## 5.\n",
        "Create a `Series` whose index is reviewers and whose values is the average review score given out by that reviewer. Hint: you will need the `taster_name` and `points` columns."
      ]
    },
    {
      "cell_type": "code",
      "execution_count": 278,
      "metadata": {
        "id": "n2x3QbnieKVJ"
      },
      "outputs": [
        {
          "data": {
            "text/plain": [
              "taster_name\n",
              "Alexander Peartree    85.855422\n",
              "Anna Lee C. Iijima    88.415629\n",
              "Anne Krebiehl MW      90.562551\n",
              "Carrie Dykes          86.395683\n",
              "Christina Pickard     87.833333\n",
              "Fiona Adams           86.888889\n",
              "Jeff Jenssen          88.319756\n",
              "Jim Gordon            88.626287\n",
              "Joe Czerwinski        88.536235\n",
              "Kerin O’Keefe         88.867947\n",
              "Lauren Buzzeo         87.739510\n",
              "Matt Kettmann         90.008686\n",
              "Michael Schachner     86.907493\n",
              "Mike DeSimone         89.101167\n",
              "Paul Gregutt          89.082564\n",
              "Roger Voss            88.708003\n",
              "Sean P. Sullivan      88.755739\n",
              "Susan Kostrzewa       86.609217\n",
              "Virginie Boone        89.213379\n",
              "Name: points, dtype: float64"
            ]
          },
          "execution_count": 278,
          "metadata": {},
          "output_type": "execute_result"
        }
      ],
      "source": [
        "# Your code here\n",
        "avg_review_score = reviews.groupby('taster_name')['points'].mean()\n",
        "\n",
        "avg_review_score"
      ]
    },
    {
      "cell_type": "markdown",
      "metadata": {
        "id": "UHUjmHs6g2Dr"
      },
      "source": [
        "Are there significant differences in the average scores assigned by the various reviewers? Run the cell below to use the `describe()` method to see a summary of the range of values."
      ]
    },
    {
      "cell_type": "code",
      "execution_count": 281,
      "metadata": {
        "id": "YvwzJsrqeKSN"
      },
      "outputs": [
        {
          "data": {
            "text/plain": [
              "count    19.000000\n",
              "mean     88.233026\n",
              "std       1.243610\n",
              "min      85.855422\n",
              "25%      87.323501\n",
              "50%      88.536235\n",
              "75%      88.975256\n",
              "max      90.562551\n",
              "Name: points, dtype: float64"
            ]
          },
          "execution_count": 281,
          "metadata": {},
          "output_type": "execute_result"
        }
      ],
      "source": [
        "# Your code here\n",
        "summary = avg_review_score.describe()\n",
        "summary"
      ]
    },
    {
      "cell_type": "markdown",
      "metadata": {
        "id": "z-U8U0khg7se"
      },
      "source": [
        "## 6.\n",
        "What combination of countries and varieties are most common? Create a `Series` whose index is a `MultiIndex`of `{country, variety}` pairs. For example, a pinot noir produced in the US should map to `{\"US\", \"Pinot Noir\"}`. Sort the values in the `Series` in descending order based on wine count."
      ]
    },
    {
      "cell_type": "code",
      "execution_count": 282,
      "metadata": {
        "id": "vFKzYwAKeKJD"
      },
      "outputs": [
        {
          "data": {
            "text/plain": [
              "country    variety                   \n",
              "Argentina  Barbera                         1\n",
              "           Bonarda                       105\n",
              "           Bordeaux-style Red Blend       89\n",
              "           Bordeaux-style White Blend      1\n",
              "           Cabernet Blend                  8\n",
              "                                        ... \n",
              "Uruguay    Tannat-Cabernet Franc           2\n",
              "           Tannat-Merlot                   6\n",
              "           Tannat-Syrah                    1\n",
              "           Tempranillo-Tannat              1\n",
              "           White Blend                     1\n",
              "Length: 1612, dtype: int64"
            ]
          },
          "execution_count": 282,
          "metadata": {},
          "output_type": "execute_result"
        }
      ],
      "source": [
        "# Your code here\n",
        "country_variety_counts = reviews.groupby(['country', 'variety']).size()\n",
        "country_variety_counts.sort_values(ascending = False)\n",
        "country_variety_counts\n"
      ]
    },
    {
      "cell_type": "markdown",
      "metadata": {
        "id": "BKP_YdI9E82F"
      },
      "source": [
        "# Section E :Missing Values"
      ]
    },
    {
      "cell_type": "markdown",
      "metadata": {
        "id": "JjmlHaBeK_J-"
      },
      "source": [
        "## 1.\n",
        "What is the data type of the `points` column in the dataset?"
      ]
    },
    {
      "cell_type": "code",
      "execution_count": 283,
      "metadata": {
        "id": "XDfKlOJfK6SL"
      },
      "outputs": [
        {
          "data": {
            "text/plain": [
              "dtype('int64')"
            ]
          },
          "execution_count": 283,
          "metadata": {},
          "output_type": "execute_result"
        }
      ],
      "source": [
        "# Your code here\n",
        "\n",
        "reviews.points.dtypes"
      ]
    },
    {
      "cell_type": "markdown",
      "metadata": {
        "id": "qIsCCPOBLqAq"
      },
      "source": [
        "## 2.\n",
        "Create a Series from entries in the `points` column, but convert the entries to strings. Hint: strings are `str` in native Python."
      ]
    },
    {
      "cell_type": "code",
      "execution_count": 286,
      "metadata": {
        "id": "DxgkhSIyLn0q"
      },
      "outputs": [
        {
          "data": {
            "text/plain": [
              "0         87\n",
              "1         87\n",
              "2         87\n",
              "3         87\n",
              "4         87\n",
              "          ..\n",
              "129966    90\n",
              "129967    90\n",
              "129968    90\n",
              "129969    90\n",
              "129970    90\n",
              "Name: points, Length: 129971, dtype: string"
            ]
          },
          "execution_count": 286,
          "metadata": {},
          "output_type": "execute_result"
        }
      ],
      "source": [
        " # Your code here\n",
        "\n",
        " str_points = reviews.points.astype('string')\n",
        " str_points"
      ]
    },
    {
      "cell_type": "markdown",
      "metadata": {
        "id": "nz6NCOmTLx0l"
      },
      "source": [
        "## 3.\n",
        "Sometimes the price column is null. How many reviews in the dataset are missing a price?"
      ]
    },
    {
      "cell_type": "code",
      "execution_count": 293,
      "metadata": {
        "colab": {
          "base_uri": "https://localhost:8080/"
        },
        "id": "k-fzSRSsLxla",
        "outputId": "a4de02cf-92c7-4236-e387-d3b3dfaaf0a6"
      },
      "outputs": [
        {
          "data": {
            "text/plain": [
              "np.int64(8996)"
            ]
          },
          "execution_count": 293,
          "metadata": {},
          "output_type": "execute_result"
        }
      ],
      "source": [
        " # your code here\n",
        "\n",
        "reviews['price'].isnull().sum()\n"
      ]
    },
    {
      "cell_type": "markdown",
      "metadata": {
        "id": "K4JPmlYqMCsO"
      },
      "source": [
        "## 4.\n",
        "What are the most common wine-producing regions? Create a Series counting the number of times each value occurs in the `region_1` field. This field is often missing data, so replace missing values with `Unknown`. Sort in descending order.  Your output should look something like this:\n",
        "\n",
        "```\n",
        "Unknown                    21247\n",
        "Napa Valley                 4480\n",
        "                           ...  \n",
        "Bardolino Superiore            1\n",
        "Primitivo del Tarantino        1\n",
        "Name: region_1, Length: 1230, dtype: int64\n",
        "```"
      ]
    },
    {
      "cell_type": "code",
      "execution_count": 295,
      "metadata": {},
      "outputs": [
        {
          "data": {
            "text/plain": [
              "region_1\n",
              "Unknown                    21247\n",
              "Napa Valley                 4480\n",
              "Columbia Valley (WA)        4124\n",
              "Russian River Valley        3091\n",
              "California                  2629\n",
              "                           ...  \n",
              "Lamezia                        1\n",
              "Trentino Superiore             1\n",
              "Grave del Friuli               1\n",
              "Vin Santo di Carmignano        1\n",
              "Paestum                        1\n",
              "Name: count, Length: 1230, dtype: int64"
            ]
          },
          "execution_count": 295,
          "metadata": {},
          "output_type": "execute_result"
        }
      ],
      "source": [
        "region_counts = reviews['region_1'].fillna('Unknown')\n",
        "\n",
        "region_counts = region_counts.value_counts()\n",
        "\n",
        "region_counts\n"
      ]
    },
    {
      "cell_type": "markdown",
      "metadata": {
        "id": "BmRJrDtkMK-Y"
      },
      "source": []
    }
  ],
  "metadata": {
    "colab": {
      "collapsed_sections": [
        "NcgI3FSJsQy4",
        "a18_PHpVeWL7",
        "nCnC4sb0-X3o",
        "COFusAseeFdU",
        "BKP_YdI9E82F"
      ],
      "provenance": []
    },
    "kernelspec": {
      "display_name": "3.13.2",
      "language": "python",
      "name": "python3"
    },
    "language_info": {
      "codemirror_mode": {
        "name": "ipython",
        "version": 3
      },
      "file_extension": ".py",
      "mimetype": "text/x-python",
      "name": "python",
      "nbconvert_exporter": "python",
      "pygments_lexer": "ipython3",
      "version": "3.13.2"
    }
  },
  "nbformat": 4,
  "nbformat_minor": 0
}
