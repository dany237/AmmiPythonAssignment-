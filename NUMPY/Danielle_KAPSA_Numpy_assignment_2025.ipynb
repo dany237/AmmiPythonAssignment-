{
  "cells": [
    {
      "cell_type": "markdown",
      "metadata": {
        "id": "wMVmkcuC6PRA"
      },
      "source": [
        "# Instructions:\n",
        "\n",
        "You have to submit the Notebook before the deadline:\n",
        "\n",
        "*   Before you start go to the menu in the upper left corner and click file->Save a copy in Drive.\n",
        "*   Modify (add your name) the notebook name to **firstname_lastname_NumPy_Assignment.ipynb**."
      ]
    },
    {
      "cell_type": "code",
      "execution_count": 1,
      "metadata": {
        "id": "jPJoYjEvHXkW"
      },
      "outputs": [],
      "source": [
        "import numpy as np"
      ]
    },
    {
      "cell_type": "markdown",
      "metadata": {
        "id": "OWAXiYTOw91a"
      },
      "source": [
        "# Exercise 1:\n",
        "\n",
        "1. Create 3 arrays $X$, $w$ and $y$ with shapes (3,4), (2,1) and (6,1) respectively such that:\n",
        "\n",
        "  * $X$ is a sample from the standard normal distribution\n",
        "  * $w$ an $y$ are filled  with random floats\n",
        "\n",
        "2. Perform the following operations:\n",
        "\n",
        "  * Find the minimum value in $X$.\n",
        "  * Find the maximum value in each row of $X$.\n",
        "  * Reshape $X$ such that, the operation $Xw$  will result in an array of a shape (6,1).\n",
        "  * Find the L2 norm  $||Xw-y||^2$."
      ]
    },
    {
      "cell_type": "code",
      "execution_count": 43,
      "metadata": {
        "id": "IgrkRY9f6lbB"
      },
      "outputs": [
        {
          "name": "stdout",
          "output_type": "stream",
          "text": [
            "X_shape (3, 4) \n",
            "X = [[ 0.73419327  0.30167396  0.12149068 -0.60344194]\n",
            " [ 0.24787272 -1.21032819  1.64795865  0.24571978]\n",
            " [-0.14984459 -0.41306235 -0.57090805  1.67287578]]\n",
            "w_shape (2, 1) \n",
            "w =   [[0.68834716]\n",
            " [0.91184372]]\n",
            "y_shape (6, 1) \n",
            " y= [[0.458586  ]\n",
            " [0.14726089]\n",
            " [0.25974128]\n",
            " [0.09670787]\n",
            " [0.35707881]\n",
            " [0.05846017]]\n",
            "The minimun and the maximun of each row values in X are respectively  -1.210328188482563 [0.73419327 1.64795865 1.67287578]\n",
            "The L2 norm is equal to   [5.34877167] 5.348771667935\n"
          ]
        }
      ],
      "source": [
        "## WRITE YOUR CODE HERE ##\n",
        "\n",
        "#np.random.normal?\n",
        "\n",
        "X = np.random.normal(size=(3,4))\n",
        "w = np.random.random(size=(2,1))\n",
        "y = np.random.random(size=(6,1))\n",
        "print('X_shape', X.shape , '\\nX =', X)\n",
        "print('w_shape', w.shape, '\\nw =  ', w)\n",
        "print('y_shape', y.shape, '\\n y=', y)\n",
        "print('The minimun and the maximun of each row values in X are respectively ', np.min(X), np.max(X, axis = 1) )\n",
        "# Reshape X in (6,2)\n",
        "X_reshape = X.reshape(6,2) \n",
        "Xw = X_reshape @ w\n",
        "#Let find the L2\n",
        "l_2_norm = sum((X_reshape@w - y)**2) # using the formula\n",
        "l2_norm_squared = np.linalg.norm(Xw - y) ** 2 #using the built in fonction\n",
        "print('The L2 norm is equal to  ', l_2_norm, l2_norm_squared )"
      ]
    },
    {
      "cell_type": "markdown",
      "metadata": {
        "id": "jPHYQRqm_GgX"
      },
      "source": [
        "# Exercise 2\n",
        "\n",
        "Replace all values greater than or equal to 0.5 with 1, else remain the same.\n"
      ]
    },
    {
      "cell_type": "code",
      "execution_count": 55,
      "metadata": {
        "id": "IPdAFiYA_3B0"
      },
      "outputs": [
        {
          "data": {
            "text/plain": [
              "array([0., 1., 1., 0., 0., 1., 1., 0., 0., 1.])"
            ]
          },
          "execution_count": 55,
          "metadata": {},
          "output_type": "execute_result"
        }
      ],
      "source": [
        "a = np.array([0, 0.6, 0.5, 0, 0, 0.9, 1, 0,0,0.8])\n",
        "\n",
        "b = np.where( a >= 0.5, 1, a)\n",
        "b"
      ]
    },
    {
      "cell_type": "markdown",
      "metadata": {
        "id": "EVhoQfIw8DNa"
      },
      "source": [
        "# Exercise 3:\n",
        "\n",
        "Create a (4X4) array with 1 on the border and 0 inside"
      ]
    },
    {
      "cell_type": "code",
      "execution_count": 68,
      "metadata": {
        "id": "JzXuJhTd8DBc"
      },
      "outputs": [
        {
          "name": "stdout",
          "output_type": "stream",
          "text": [
            "[[1 1 1 1]\n",
            " [1 1 1 1]\n",
            " [1 1 1 1]\n",
            " [1 1 1 1]]\n",
            "[[1 1 1 1]\n",
            " [1 0 0 1]\n",
            " [1 0 0 1]\n",
            " [1 1 1 1]]\n"
          ]
        }
      ],
      "source": [
        "## WRITE YOUR CODE HERE ##\n",
        "\n",
        "a = np.ones((4,4), dtype = int)\n",
        "print(a)\n",
        "a[1:-1,1:-1]=0\n",
        "print(a)"
      ]
    },
    {
      "cell_type": "markdown",
      "metadata": {
        "id": "r_h3qC5TfJbG"
      },
      "source": [
        "# Exercise 4:\n",
        "\n",
        "Remove all rows with nan values in the given array.\n",
        "\n",
        "Hint: use `np.isnan()`\n",
        "\n",
        "Expected output:\n",
        "\n",
        "        array([[37.5, 24.1,  2.2],\n",
        "               [18.1,  4.8, 32. ]])"
      ]
    },
    {
      "cell_type": "code",
      "execution_count": 81,
      "metadata": {
        "id": "qLCa2bmdLSLK"
      },
      "outputs": [
        {
          "data": {
            "text/plain": [
              "array([[37.5, 24.1,  2.2],\n",
              "       [18.1,  4.8, 32. ]])"
            ]
          },
          "execution_count": 81,
          "metadata": {},
          "output_type": "execute_result"
        }
      ],
      "source": [
        "a = np.array([[37.5, 24.1, 2.2],\n",
        "             [25.4, np.nan, 38],\n",
        "             [18.1, 4.8, 32],\n",
        "             [np.nan, np.nan, 28.9]\n",
        "                ])\n",
        "b = a[np.isnan(a).sum(axis=1) == 0] \n",
        "b"
      ]
    },
    {
      "cell_type": "markdown",
      "metadata": {
        "id": "ucnJXXouG7q1"
      },
      "source": [
        "# Exercice 5\n",
        "Sort the following NumPy array:\n",
        " - by the 2nd row. Expected output:\n",
        "\n",
        "        array([\n",
        "              [ 6, 45, 34],\n",
        "              [16, 21, 67],\n",
        "              [32, 40, 17]])\n",
        " - by the 2nd column. Expected output:\n",
        "\n",
        "       array([[45,  6, 34],\n",
        "              [21, 16, 67],\n",
        "              [40, 32, 17]])"
      ]
    },
    {
      "cell_type": "code",
      "execution_count": 92,
      "metadata": {
        "id": "vzDmZPNwIXE_"
      },
      "outputs": [
        {
          "name": "stdout",
          "output_type": "stream",
          "text": [
            "[[ 6 45 34]\n",
            " [16 21 67]\n",
            " [32 40 17]]\n",
            "[[45  6 34]\n",
            " [21 16 67]\n",
            " [40 32 17]]\n"
          ]
        }
      ],
      "source": [
        "a = np.array([[45,6,34],[21,16,67],[40,32,17]])\n",
        "\n",
        "print(a[:, a[1].argsort()])\n",
        "\n",
        "print(a[a[:,1].argsort()])\n"
      ]
    },
    {
      "cell_type": "markdown",
      "metadata": {
        "id": "Cg8FtzgwkNIL"
      },
      "source": [
        "# Exercise 6:"
      ]
    },
    {
      "cell_type": "markdown",
      "metadata": {
        "id": "XG91r-6NIFdk"
      },
      "source": [
        "## Problem Description:\n",
        "\n",
        "In this exercise, you are required to implement a function that performs Principal Component Analysis (PCA) on a given array of dataset using Singular Value Decomposition (SVD).\n",
        "\n",
        "\n",
        "### Instructions:\n",
        "\n",
        "A. Write a function named **pca_with_svd()** that takes a 2D array X as input, where each row represents a data point and each column represents a feature.\n",
        "\n",
        "Inside the function:\n",
        "\n",
        "1. Center X by substracting the column-mean from each column.\n",
        "2. Decompose the centered X using SVD (`np.linalg.svd()`) to obtain the matrices $U$, $Σ$, $V^T$\n",
        "\n",
        "  where:\n",
        "    * $U$ is a 2D array containing the eigenvectors as columns.\n",
        "    * $Σ$ is a 1D array containing the singular values.\n",
        "\n",
        "3. Extract the principal components (PCs).\n",
        "\n",
        "  Hint: $PCs = V^T$\n",
        "\n",
        "4. The function should return a tuple of  $X\\_centered$, $PCs$, $U$ and $Σ$\n",
        "\n",
        "\n",
        "B. Write a second function named  **get_projected_data()** that:\n",
        "\n",
        "1. Project the array X onto the subspace defined by the $V$.\n",
        "\n",
        "  **Hint**:  $projected\\_X = XV = US$ where, S is the 2D diagonal matrix of singular values.\n",
        "2. Return a 2D array representing the projected data.\n",
        "\n"
      ]
    },
    {
      "cell_type": "code",
      "execution_count": 93,
      "metadata": {
        "id": "xYct3bqX9ZOP"
      },
      "outputs": [],
      "source": [
        "X = np.array([[1, 2, 3],\n",
        "              [4, 5, 6],\n",
        "              [7, 8, 9]])"
      ]
    },
    {
      "cell_type": "code",
      "execution_count": 97,
      "metadata": {
        "id": "jsfj5gWk9GOW"
      },
      "outputs": [],
      "source": [
        "##  COMPLETE THE CODE ##\n",
        "\n",
        "def pca_with_svd(X):\n",
        "\n",
        "    # Step 1: Compute the mean-centered X matrix\n",
        "    mean_centered = X - np.mean(X, axis = 0)\n",
        "\n",
        "    # Step 2: Use SVD to obtain U, Sigma, and V^T\n",
        "\n",
        "    U, sigma, VT = np.linalg.svd(mean_centered, full_matrices= False)\n",
        "\n",
        "    # Step 3: Extract the principal components from V\n",
        "    pcs = VT\n",
        "\n",
        "    # Step 4: Return the result as a tuple\n",
        "\n",
        "    return mean_centered, pcs, U, sigma\n",
        "\n",
        "def get_projected_data(U, S):\n",
        "\n",
        "    S_matrix = np.diag(S)\n",
        "\n",
        "    # Project the data onto the subspace defined by V\n",
        "    projected_X = np.dot(U, S_matrix)\n",
        "\n",
        "    # Return the projected data\n",
        "    return projected_X\n"
      ]
    },
    {
      "cell_type": "code",
      "execution_count": 98,
      "metadata": {
        "id": "Yo2tAPqS9pPr"
      },
      "outputs": [
        {
          "name": "stdout",
          "output_type": "stream",
          "text": [
            "\n",
            "Principal Components:\n",
            " [[ 0.57735027  0.57735027  0.57735027]\n",
            " [-0.81649658  0.40824829  0.40824829]\n",
            " [ 0.         -0.70710678  0.70710678]]\n",
            "\n",
            "Singular Values: [7.34846923e+00 5.12445350e-16 9.25702808e-48]\n",
            "\n",
            "Projected Data:\n",
            " [[-5.19615242e+00  3.62353582e-16  1.45343900e-63]\n",
            " [ 0.00000000e+00  0.00000000e+00  9.25702808e-48]\n",
            " [ 5.19615242e+00  3.62353582e-16  1.45343900e-63]]\n"
          ]
        }
      ],
      "source": [
        "X_centered,principal_components,U, singular_values = pca_with_svd(X)\n",
        "\n",
        "projected_data = get_projected_data(U, singular_values)\n",
        "\n",
        "# Display the results\n",
        "print(\"\\nPrincipal Components:\\n\", principal_components)\n",
        "print(\"\\nSingular Values:\", singular_values)\n",
        "print(\"\\nProjected Data:\\n\", projected_data)"
      ]
    }
  ],
  "metadata": {
    "colab": {
      "provenance": []
    },
    "kernelspec": {
      "display_name": "3.13.2",
      "language": "python",
      "name": "python3"
    },
    "language_info": {
      "codemirror_mode": {
        "name": "ipython",
        "version": 3
      },
      "file_extension": ".py",
      "mimetype": "text/x-python",
      "name": "python",
      "nbconvert_exporter": "python",
      "pygments_lexer": "ipython3",
      "version": "3.13.2"
    }
  },
  "nbformat": 4,
  "nbformat_minor": 0
}
